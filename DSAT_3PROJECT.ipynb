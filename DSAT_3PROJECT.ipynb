{
 "cells": [
  {
   "cell_type": "markdown",
   "id": "ea24ca5e",
   "metadata": {},
   "source": [
    "## INITIAL DATA ANALYSIS FOR ALL DATA SETS"
   ]
  },
  {
   "cell_type": "code",
   "execution_count": 1,
   "id": "192abfaa",
   "metadata": {},
   "outputs": [],
   "source": [
    "import pandas as pd"
   ]
  },
  {
   "cell_type": "code",
   "execution_count": 6,
   "id": "068b7453",
   "metadata": {},
   "outputs": [],
   "source": [
    "def df_info(df):\n",
    "    list_col_names=list(df.columns)\n",
    "    list_col_types=[type(col) for col in df.iloc[0, :]]\n",
    "    list_col_null_count=[df[col].isnull().sum() for col in list_col_names]\n",
    "    list_col_unique_count=[df[col].nunique() for col in list_col_names]\n",
    "    list_col_unique_items=[list(df[col].value_counts().to_dict().keys())[:20] for col in list_col_names]\n",
    "    df_col_info=pd.DataFrame({'col_name':list_col_names,\n",
    "                             'col_type':list_col_types,\n",
    "                             'col_null_count':list_col_null_count,\n",
    "                             'col_unique_count':list_col_unique_count,\n",
    "                             'col_unique_items': list_col_unique_items})\n",
    "    \n",
    "    list_col_memory_usage=[df[col].memory_usage() for col in list_col_names]\n",
    "    total_memory_usage = sum(list_col_memory_usage)\n",
    "    return df_col_info, total_memory_usage"
   ]
  },
  {
   "cell_type": "code",
   "execution_count": 8,
   "id": "9cf57623",
   "metadata": {},
   "outputs": [],
   "source": [
    "df_campaign_data=pd.read_csv('campaign_data.csv')\n",
    "df_coupon_item_mapping=pd.read_csv('coupon_item_mapping.csv')\n",
    "df_customer_demographics=pd.read_csv('customer_demographics.csv')\n",
    "df_item_data=pd.read_csv('item_data.csv')\n",
    "df_train=pd.read_csv('train.csv')\n",
    "df_customer_transaction_data=pd.read_csv('customer_transaction_data.csv')"
   ]
  },
  {
   "cell_type": "code",
   "execution_count": 9,
   "id": "f8bf1094",
   "metadata": {},
   "outputs": [],
   "source": [
    "##DATA ANALYSIS FOR CAMPAIGN DATA\n",
    "df_campaign_data_info,df_campaign_data_memory=df_info(df_campaign_data)"
   ]
  },
  {
   "cell_type": "code",
   "execution_count": 11,
   "id": "3169e397",
   "metadata": {},
   "outputs": [
    {
     "name": "stdout",
     "output_type": "stream",
     "text": [
      "28 rows x4 columns| 1408.00 MB approx memory usage\n",
      "        col_name               col_type  col_null_count  col_unique_count                                                                                                                                                                                          col_unique_items\n",
      "0    campaign_id  <class 'numpy.int64'>               0                28                                                                                                                                   [24, 25, 27, 28, 29, 30, 2, 1, 4, 5, 3, 6, 7, 8, 9, 10, 12, 11, 13, 16]\n",
      "1  campaign_type          <class 'str'>               0                 2                                                                                                                                                                                                    [Y, X]\n",
      "2     start_date          <class 'str'>               0                25  [21/10/13, 16/09/13, 22/04/13, 28/01/13, 25/08/12, 16/09/12, 08/10/12, 19/11/12, 17/12/12, 12/12/12, 07/01/13, 12/01/13, 22/12/12, 16/02/13, 02/02/13, 07/09/13, 11/03/13, 08/04/13, 19/05/13, 15/07/13]\n",
      "3       end_date          <class 'str'>               0                26  [18/10/13, 18/01/13, 20/12/13, 05/04/13, 27/10/12, 16/11/12, 30/11/12, 04/01/13, 08/02/13, 15/02/13, 16/02/13, 01/03/13, 08/03/13, 12/04/13, 22/11/13, 10/05/13, 24/05/13, 07/06/13, 05/07/13, 16/08/13]\n"
     ]
    }
   ],
   "source": [
    "print(f'{df_campaign_data.shape[0]} rows x{df_campaign_data.shape[1]} columns| {df_campaign_data_memory:.2f} MB approx memory usage\\n{df_campaign_data_info.to_string()}')"
   ]
  },
  {
   "cell_type": "code",
   "execution_count": 12,
   "id": "e2dabe14",
   "metadata": {},
   "outputs": [
    {
     "name": "stdout",
     "output_type": "stream",
     "text": [
      "92663 rows x2 columns| 1482864.00 MB approx memory usage\n",
      "    col_name       col_type  col_null_count  col_unique_count                                                                                                                           col_unique_items\n",
      "0  coupon_id  <class 'int'>               0              1116                                                            [32, 23, 22, 31, 33, 24, 8, 6, 29, 20, 21, 30, 7, 43, 42, 9, 37, 549, 270, 562]\n",
      "1    item_id  <class 'int'>               0             36289  [56523, 26458, 52650, 22290, 30410, 16183, 37814, 29025, 45662, 12223, 63983, 21792, 1386, 28958, 64291, 64292, 58294, 32732, 52492, 945]\n"
     ]
    }
   ],
   "source": [
    "##DATA ANALYSIS FOR COUPON_ITEM_MAPPING\n",
    "df_coupon_item_mapping_info,df_coupon_item_mapping_memory=df_info(df_coupon_item_mapping)\n",
    "print(f'{df_coupon_item_mapping.shape[0]} rows x{df_coupon_item_mapping.shape[1]} columns| {df_coupon_item_mapping_memory:.2f} MB approx memory usage\\n{df_coupon_item_mapping_info.to_string()}')"
   ]
  },
  {
   "cell_type": "code",
   "execution_count": 13,
   "id": "2f8d3701",
   "metadata": {},
   "outputs": [
    {
     "name": "stdout",
     "output_type": "stream",
     "text": [
      "760 rows x7 columns| 43456.00 MB approx memory usage\n",
      "         col_name               col_type  col_null_count  col_unique_count                                                                                                       col_unique_items\n",
      "0     customer_id  <class 'numpy.int64'>               0               760  [1, 1056, 1033, 1036, 1045, 1046, 1047, 1051, 1053, 1054, 1055, 1057, 1026, 1058, 1061, 1062, 1063, 1064, 1067, 1068]\n",
      "1       age_range          <class 'str'>               0                 6                                                                               [46-55, 36-45, 26-35, 70+, 56-70, 18-25]\n",
      "2  marital_status          <class 'str'>             329                 2                                                                                                      [Married, Single]\n",
      "3          rented  <class 'numpy.int64'>               0                 2                                                                                                                 [0, 1]\n",
      "4     family_size          <class 'str'>               0                 5                                                                                                       [2, 1, 3, 5+, 4]\n",
      "5  no_of_children        <class 'float'>             538                 3                                                                                                             [1, 3+, 2]\n",
      "6  income_bracket  <class 'numpy.int64'>               0                12                                                                                [5, 4, 6, 3, 2, 1, 8, 7, 9, 12, 10, 11]\n"
     ]
    }
   ],
   "source": [
    "##DATA ANALYSIS FOR customer_demographics\n",
    "df_customer_demographics_info,df_customer_demographics_memory=df_info(df_customer_demographics)\n",
    "print(f'{df_customer_demographics.shape[0]} rows x{df_customer_demographics.shape[1]} columns| {df_customer_demographics_memory:.2f} MB approx memory usage\\n{df_customer_demographics_info.to_string()}')"
   ]
  },
  {
   "cell_type": "code",
   "execution_count": 14,
   "id": "b42058e2",
   "metadata": {},
   "outputs": [
    {
     "name": "stdout",
     "output_type": "stream",
     "text": [
      "74066 rows x4 columns| 2370624.00 MB approx memory usage\n",
      "     col_name               col_type  col_null_count  col_unique_count                                                                                                                                                                                                                                   col_unique_items\n",
      "0     item_id  <class 'numpy.int64'>               0             74066                                                                                                           [1, 49331, 49383, 49382, 49381, 49380, 49379, 49378, 49377, 49376, 49375, 49374, 49373, 49372, 49371, 49370, 49369, 49384, 49385, 49386]\n",
      "1       brand  <class 'numpy.int64'>               0              5528                                                                                                                                              [56, 686, 1, 4700, 1262, 487, 619, 946, 4467, 1124, 172, 278, 602, 89, 158, 1470, 971, 866, 771, 808]\n",
      "2  brand_type          <class 'str'>               0                 2                                                                                                                                                                                                                               [Established, Local]\n",
      "3    category          <class 'str'>               0                19  [Grocery, Pharmaceutical, Natural Products, Dairy, Juices & Snacks, Skin & Hair Care, Meat, Packaged Meat, Prepared Food, Bakery, Seafood, Flowers & Plants, Miscellaneous, Alcohol, Garden, Restauarant, Salads, Travel, Fuel, Vegetables (cut)]\n"
     ]
    }
   ],
   "source": [
    "## DATA ANALYSIS FOR ITEM_DATA\n",
    "df_item_data_info,df_item_data_memory=df_info(df_item_data)\n",
    "print(f'{df_item_data.shape[0]} rows x{df_item_data.shape[1]} columns| {df_item_data_memory:.2f} MB approx memory usage\\n{df_item_data_info.to_string()}')"
   ]
  },
  {
   "cell_type": "code",
   "execution_count": 15,
   "id": "f9766227",
   "metadata": {},
   "outputs": [
    {
     "name": "stdout",
     "output_type": "stream",
     "text": [
      "78369 rows x5 columns| 3135400.00 MB approx memory usage\n",
      "            col_name       col_type  col_null_count  col_unique_count                                                                                                                          col_unique_items\n",
      "0                 id  <class 'int'>               0             78369  [1, 85767, 85779, 85778, 85776, 85774, 85770, 85769, 85768, 85765, 85817, 85764, 85762, 85758, 85755, 85754, 85753, 85752, 85781, 85786]\n",
      "1        campaign_id  <class 'int'>               0                18                                                                           [13, 8, 30, 26, 29, 9, 11, 12, 5, 10, 7, 4, 2, 28, 3, 27, 1, 6]\n",
      "2          coupon_id  <class 'int'>               0               866                                    [705, 470, 691, 468, 1043, 658, 431, 759, 754, 896, 989, 689, 934, 279, 694, 578, 920, 672, 1063, 744]\n",
      "3        customer_id  <class 'int'>               0              1428                           [1463, 590, 189, 1192, 464, 63, 1378, 1387, 787, 1216, 957, 1167, 1457, 569, 1534, 865, 1384, 1309, 1140, 1025]\n",
      "4  redemption_status  <class 'int'>               0                 2                                                                                                                                    [0, 1]\n"
     ]
    }
   ],
   "source": [
    "## DATA ANALYSIS FOR TRAIN DATASET\n",
    "df_train_info,df_train_memory=df_info(df_train)\n",
    "print(f'{df_train.shape[0]} rows x{df_train.shape[1]} columns| {df_train_memory:.2f} MB approx memory usage\\n{df_train_info.to_string()}')"
   ]
  },
  {
   "cell_type": "code",
   "execution_count": 17,
   "id": "e3728923",
   "metadata": {},
   "outputs": [
    {
     "name": "stdout",
     "output_type": "stream",
     "text": [
      "1324566 rows x7 columns| 74176592.00 MB approx memory usage\n",
      "          col_name                 col_type  col_null_count  col_unique_count                                                                                                                                                                                                                                  col_unique_items\n",
      "0             date            <class 'str'>               0               549  [2012-09-03, 2012-10-03, 2012-11-15, 2012-09-13, 2012-10-11, 2012-10-19, 2012-10-25, 2012-11-23, 2013-01-24, 2012-12-07, 2013-02-15, 2012-07-27, 2013-03-15, 2012-12-14, 2012-11-02, 2012-12-21, 2012-08-10, 2012-12-13, 2013-01-11, 2012-11-16]\n",
      "1      customer_id    <class 'numpy.int64'>               0              1582                                                                                                                                      [1555, 711, 464, 1475, 1011, 911, 1466, 627, 60, 898, 934, 239, 1485, 161, 626, 208, 1444, 1033, 1337, 1463]\n",
      "2          item_id    <class 'numpy.int64'>               0             74063                                                                                                          [49009, 34047, 13174, 45502, 29847, 18156, 28633, 32991, 9281, 8525, 6958, 53517, 5798, 13774, 45372, 45539, 30518, 57632, 53521, 32573]\n",
      "3         quantity    <class 'numpy.int64'>               0              9252                                                                                                                                                                           [1, 2, 3, 4, 5, 6, 8, 10, 7, 9, 12, 11, 20, 15, 14, 16, 13, 24, 18, 17]\n",
      "4    selling_price  <class 'numpy.float64'>               0              4923                                                                                                [35.62, 71.24, 89.05, 106.5, 70.88, 35.26, 142.12, 53.43, 59.49, 106.86, 45.95, 177.74, 63.76, 178.1, 124.31, 88.69, 142.48, 53.07, 213.36, 81.57]\n",
      "5   other_discount  <class 'numpy.float64'>               0              1418                                                                                         [0.0, -17.45, -7.12, -35.62, -35.26, -10.33, -10.69, -14.25, -17.81, -3.56, -13.89, -6.77, -24.58, -28.14, -21.37, -53.07, -21.02, -28.5, -71.24, -34.91]\n",
      "6  coupon_discount  <class 'numpy.float64'>               0               232                                                                                     [0.0, -35.62, -17.81, -19.59, -26.71, -12.47, -14.25, -89.05, -8.9, -71.24, -53.43, -10.69, -21.37, -106.86, -39.18, -142.48, -44.52, -24.93, -35.26, -16.03]\n"
     ]
    }
   ],
   "source": [
    "## DATA ANALYSIS FOR CUSTOMER TRANSACTION\n",
    "df_customer_transaction_data_info,df_customer_transaction_data_memory=df_info(df_customer_transaction_data)\n",
    "print(f'{df_customer_transaction_data.shape[0]} rows x{df_customer_transaction_data.shape[1]} columns| {df_customer_transaction_data_memory:.2f} MB approx memory usage\\n{df_customer_transaction_data_info.to_string()}')"
   ]
  },
  {
   "cell_type": "markdown",
   "id": "6c85eb2a",
   "metadata": {},
   "source": [
    "## A SUMMARY CONTAINING THE UNDERSTANDING OF DATA,IMPORTANT FIELDS,PLAN FOR THE NEXT STEP"
   ]
  },
  {
   "attachments": {
    "image.png": {
     "image/png": "[encoded data removed]"
    }
   },
   "cell_type": "markdown",
   "id": "8734e49c",
   "metadata": {},
   "source": [
    "![image.png](attachment:image.png)"
   ]
  },
  {
   "cell_type": "markdown",
   "id": "57f3ed90",
   "metadata": {},
   "source": [
    "The data sets are connected through each other as shown in above diagram.\n",
    "\n",
    "The important fields are the ones that connect each data set and are written above the arrow.\n",
    "\n",
    "The next step is data cleaning and transformation.Handling null values and making the data prepare for further process.\n",
    "\n"
   ]
  },
  {
   "cell_type": "markdown",
   "id": "d0065b10",
   "metadata": {},
   "source": [
    "## DATA CLEANING AND TRANSFORMATION"
   ]
  },
  {
   "cell_type": "markdown",
   "id": "ce4982b6",
   "metadata": {},
   "source": [
    "### Campaign data "
   ]
  },
  {
   "cell_type": "code",
   "execution_count": 19,
   "id": "8514aeaa",
   "metadata": {},
   "outputs": [
    {
     "data": {
      "text/html": [
       "<div>\n",
       "<style scoped>\n",
       "    .dataframe tbody tr th:only-of-type {\n",
       "        vertical-align: middle;\n",
       "    }\n",
       "\n",
       "    .dataframe tbody tr th {\n",
       "        vertical-align: top;\n",
       "    }\n",
       "\n",
       "    .dataframe thead th {\n",
       "        text-align: right;\n",
       "    }\n",
       "</style>\n",
       "<table border=\"1\" class=\"dataframe\">\n",
       "  <thead>\n",
       "    <tr style=\"text-align: right;\">\n",
       "      <th></th>\n",
       "      <th>campaign_id</th>\n",
       "      <th>campaign_type</th>\n",
       "      <th>start_date</th>\n",
       "      <th>end_date</th>\n",
       "    </tr>\n",
       "  </thead>\n",
       "  <tbody>\n",
       "    <tr>\n",
       "      <th>23</th>\n",
       "      <td>30</td>\n",
       "      <td>X</td>\n",
       "      <td>19/11/12</td>\n",
       "      <td>04/01/13</td>\n",
       "    </tr>\n",
       "    <tr>\n",
       "      <th>24</th>\n",
       "      <td>29</td>\n",
       "      <td>Y</td>\n",
       "      <td>08/10/12</td>\n",
       "      <td>30/11/12</td>\n",
       "    </tr>\n",
       "    <tr>\n",
       "      <th>25</th>\n",
       "      <td>28</td>\n",
       "      <td>Y</td>\n",
       "      <td>16/09/12</td>\n",
       "      <td>16/11/12</td>\n",
       "    </tr>\n",
       "    <tr>\n",
       "      <th>26</th>\n",
       "      <td>27</td>\n",
       "      <td>Y</td>\n",
       "      <td>25/08/12</td>\n",
       "      <td>27/10/12</td>\n",
       "    </tr>\n",
       "    <tr>\n",
       "      <th>27</th>\n",
       "      <td>26</td>\n",
       "      <td>X</td>\n",
       "      <td>12/08/12</td>\n",
       "      <td>21/09/12</td>\n",
       "    </tr>\n",
       "  </tbody>\n",
       "</table>\n",
       "</div>"
      ],
      "text/plain": [
       "    campaign_id campaign_type start_date  end_date\n",
       "23           30             X   19/11/12  04/01/13\n",
       "24           29             Y   08/10/12  30/11/12\n",
       "25           28             Y   16/09/12  16/11/12\n",
       "26           27             Y   25/08/12  27/10/12\n",
       "27           26             X   12/08/12  21/09/12"
      ]
     },
     "execution_count": 19,
     "metadata": {},
     "output_type": "execute_result"
    }
   ],
   "source": [
    "#obtaining last 5 rows as sample\n",
    "df_campaign_data.tail(5)"
   ]
  },
  {
   "cell_type": "code",
   "execution_count": 22,
   "id": "862005b3",
   "metadata": {},
   "outputs": [
    {
     "data": {
      "text/plain": [
       "0"
      ]
     },
     "execution_count": 22,
     "metadata": {},
     "output_type": "execute_result"
    }
   ],
   "source": [
    "#checking for any null values in data set\n",
    "df_campaign_data.isnull().sum().sum()"
   ]
  },
  {
   "cell_type": "code",
   "execution_count": 24,
   "id": "b368a245",
   "metadata": {},
   "outputs": [
    {
     "data": {
      "text/plain": [
       "0"
      ]
     },
     "execution_count": 24,
     "metadata": {},
     "output_type": "execute_result"
    }
   ],
   "source": [
    "#Data Standardization and Normalization is a common practice in machine learning. \n",
    "df_campaign_data.duplicated().sum()"
   ]
  },
  {
   "cell_type": "markdown",
   "id": "0aadc6ec",
   "metadata": {},
   "source": [
    "   #### VERIFY AND ENRICH\n",
    "After removing null, duplicate, and incorrect values, we should verify the dataset and validate its accuracy. In this step, we have to check that the data cleaned so far is making any sense. If the data is incomplete we have to enrich the data again by data gathering activities like approaching the clients again, re-interviewing people, etc. Completeness is a little more challenging to achieve accuracy or quality in the dataset.\n",
    "   #### Export dataset\n",
    "This is the last step of the data cleaning process. After performing all the above operations, the data is transformed into clean the dataset and it is ready to export for the next process in Data Science or Data Analysis."
   ]
  },
  {
   "cell_type": "markdown",
   "id": "100a78a1",
   "metadata": {},
   "source": [
    "### Coupon_item_mapping dataset"
   ]
  },
  {
   "cell_type": "code",
   "execution_count": 29,
   "id": "b7611c2d",
   "metadata": {},
   "outputs": [
    {
     "data": {
      "text/html": [
       "<div>\n",
       "<style scoped>\n",
       "    .dataframe tbody tr th:only-of-type {\n",
       "        vertical-align: middle;\n",
       "    }\n",
       "\n",
       "    .dataframe tbody tr th {\n",
       "        vertical-align: top;\n",
       "    }\n",
       "\n",
       "    .dataframe thead th {\n",
       "        text-align: right;\n",
       "    }\n",
       "</style>\n",
       "<table border=\"1\" class=\"dataframe\">\n",
       "  <thead>\n",
       "    <tr style=\"text-align: right;\">\n",
       "      <th></th>\n",
       "      <th>coupon_id</th>\n",
       "      <th>item_id</th>\n",
       "    </tr>\n",
       "  </thead>\n",
       "  <tbody>\n",
       "    <tr>\n",
       "      <th>92658</th>\n",
       "      <td>32</td>\n",
       "      <td>69268</td>\n",
       "    </tr>\n",
       "    <tr>\n",
       "      <th>92659</th>\n",
       "      <td>32</td>\n",
       "      <td>68502</td>\n",
       "    </tr>\n",
       "    <tr>\n",
       "      <th>92660</th>\n",
       "      <td>32</td>\n",
       "      <td>68612</td>\n",
       "    </tr>\n",
       "    <tr>\n",
       "      <th>92661</th>\n",
       "      <td>33</td>\n",
       "      <td>71390</td>\n",
       "    </tr>\n",
       "    <tr>\n",
       "      <th>92662</th>\n",
       "      <td>31</td>\n",
       "      <td>70030</td>\n",
       "    </tr>\n",
       "  </tbody>\n",
       "</table>\n",
       "</div>"
      ],
      "text/plain": [
       "       coupon_id  item_id\n",
       "92658         32    69268\n",
       "92659         32    68502\n",
       "92660         32    68612\n",
       "92661         33    71390\n",
       "92662         31    70030"
      ]
     },
     "execution_count": 29,
     "metadata": {},
     "output_type": "execute_result"
    }
   ],
   "source": [
    "#obtaining last 5 rows as sample\n",
    "df_coupon_item_mapping.tail(5)"
   ]
  },
  {
   "cell_type": "code",
   "execution_count": 30,
   "id": "8471b5be",
   "metadata": {},
   "outputs": [
    {
     "data": {
      "text/plain": [
       "0"
      ]
     },
     "execution_count": 30,
     "metadata": {},
     "output_type": "execute_result"
    }
   ],
   "source": [
    "#checking for any null values in data set\n",
    "df_coupon_item_mapping.isnull().sum().sum()"
   ]
  },
  {
   "cell_type": "code",
   "execution_count": 31,
   "id": "a2a0c6a1",
   "metadata": {},
   "outputs": [
    {
     "data": {
      "text/plain": [
       "0"
      ]
     },
     "execution_count": 31,
     "metadata": {},
     "output_type": "execute_result"
    }
   ],
   "source": [
    "#Data Standardization and Normalization is a common practice in machine learning. \n",
    "df_coupon_item_mapping.duplicated().sum()"
   ]
  },
  {
   "cell_type": "markdown",
   "id": "337798ff",
   "metadata": {},
   "source": [
    "### customer_demographic dataset"
   ]
  },
  {
   "cell_type": "code",
   "execution_count": 34,
   "id": "0e897a74",
   "metadata": {},
   "outputs": [
    {
     "data": {
      "text/html": [
       "<div>\n",
       "<style scoped>\n",
       "    .dataframe tbody tr th:only-of-type {\n",
       "        vertical-align: middle;\n",
       "    }\n",
       "\n",
       "    .dataframe tbody tr th {\n",
       "        vertical-align: top;\n",
       "    }\n",
       "\n",
       "    .dataframe thead th {\n",
       "        text-align: right;\n",
       "    }\n",
       "</style>\n",
       "<table border=\"1\" class=\"dataframe\">\n",
       "  <thead>\n",
       "    <tr style=\"text-align: right;\">\n",
       "      <th></th>\n",
       "      <th>customer_id</th>\n",
       "      <th>age_range</th>\n",
       "      <th>marital_status</th>\n",
       "      <th>rented</th>\n",
       "      <th>family_size</th>\n",
       "      <th>no_of_children</th>\n",
       "      <th>income_bracket</th>\n",
       "    </tr>\n",
       "  </thead>\n",
       "  <tbody>\n",
       "    <tr>\n",
       "      <th>755</th>\n",
       "      <td>1577</td>\n",
       "      <td>36-45</td>\n",
       "      <td>NaN</td>\n",
       "      <td>0</td>\n",
       "      <td>2</td>\n",
       "      <td>NaN</td>\n",
       "      <td>5</td>\n",
       "    </tr>\n",
       "    <tr>\n",
       "      <th>756</th>\n",
       "      <td>1578</td>\n",
       "      <td>46-55</td>\n",
       "      <td>Married</td>\n",
       "      <td>0</td>\n",
       "      <td>3</td>\n",
       "      <td>1</td>\n",
       "      <td>6</td>\n",
       "    </tr>\n",
       "    <tr>\n",
       "      <th>757</th>\n",
       "      <td>1579</td>\n",
       "      <td>46-55</td>\n",
       "      <td>NaN</td>\n",
       "      <td>0</td>\n",
       "      <td>1</td>\n",
       "      <td>NaN</td>\n",
       "      <td>4</td>\n",
       "    </tr>\n",
       "    <tr>\n",
       "      <th>758</th>\n",
       "      <td>1580</td>\n",
       "      <td>26-35</td>\n",
       "      <td>NaN</td>\n",
       "      <td>0</td>\n",
       "      <td>2</td>\n",
       "      <td>NaN</td>\n",
       "      <td>5</td>\n",
       "    </tr>\n",
       "    <tr>\n",
       "      <th>759</th>\n",
       "      <td>1581</td>\n",
       "      <td>26-35</td>\n",
       "      <td>NaN</td>\n",
       "      <td>0</td>\n",
       "      <td>3</td>\n",
       "      <td>1</td>\n",
       "      <td>1</td>\n",
       "    </tr>\n",
       "  </tbody>\n",
       "</table>\n",
       "</div>"
      ],
      "text/plain": [
       "     customer_id age_range marital_status  rented family_size no_of_children  \\\n",
       "755         1577     36-45            NaN       0           2            NaN   \n",
       "756         1578     46-55        Married       0           3              1   \n",
       "757         1579     46-55            NaN       0           1            NaN   \n",
       "758         1580     26-35            NaN       0           2            NaN   \n",
       "759         1581     26-35            NaN       0           3              1   \n",
       "\n",
       "     income_bracket  \n",
       "755               5  \n",
       "756               6  \n",
       "757               4  \n",
       "758               5  \n",
       "759               1  "
      ]
     },
     "execution_count": 34,
     "metadata": {},
     "output_type": "execute_result"
    }
   ],
   "source": [
    "#obtaining last 5 rows as sample\n",
    "df_customer_demographics.tail(5)"
   ]
  },
  {
   "cell_type": "code",
   "execution_count": 37,
   "id": "dd471159",
   "metadata": {},
   "outputs": [
    {
     "data": {
      "text/plain": [
       "customer_id         0\n",
       "age_range           0\n",
       "marital_status    329\n",
       "rented              0\n",
       "family_size         0\n",
       "no_of_children    538\n",
       "income_bracket      0\n",
       "dtype: int64"
      ]
     },
     "execution_count": 37,
     "metadata": {},
     "output_type": "execute_result"
    }
   ],
   "source": [
    "#checking for any null values in data set\n",
    "df_customer_demographics.isnull().sum()"
   ]
  },
  {
   "cell_type": "markdown",
   "id": "0ff04b3e",
   "metadata": {},
   "source": [
    "Since the dataset contains null values we can fill the null values with some desired value with .fillna() function."
   ]
  },
  {
   "cell_type": "code",
   "execution_count": 38,
   "id": "a6219dd5",
   "metadata": {},
   "outputs": [
    {
     "data": {
      "text/plain": [
       "0"
      ]
     },
     "execution_count": 38,
     "metadata": {},
     "output_type": "execute_result"
    }
   ],
   "source": [
    "#Data Standardization and Normalization is a common practice in machine learning. \n",
    "df_customer_demographics.duplicated().sum()"
   ]
  },
  {
   "cell_type": "markdown",
   "id": "6ca6cb5e",
   "metadata": {},
   "source": [
    "### Item_data dataset"
   ]
  },
  {
   "cell_type": "code",
   "execution_count": 41,
   "id": "e07b11bc",
   "metadata": {},
   "outputs": [
    {
     "data": {
      "text/html": [
       "<div>\n",
       "<style scoped>\n",
       "    .dataframe tbody tr th:only-of-type {\n",
       "        vertical-align: middle;\n",
       "    }\n",
       "\n",
       "    .dataframe tbody tr th {\n",
       "        vertical-align: top;\n",
       "    }\n",
       "\n",
       "    .dataframe thead th {\n",
       "        text-align: right;\n",
       "    }\n",
       "</style>\n",
       "<table border=\"1\" class=\"dataframe\">\n",
       "  <thead>\n",
       "    <tr style=\"text-align: right;\">\n",
       "      <th></th>\n",
       "      <th>item_id</th>\n",
       "      <th>brand</th>\n",
       "      <th>brand_type</th>\n",
       "      <th>category</th>\n",
       "    </tr>\n",
       "  </thead>\n",
       "  <tbody>\n",
       "    <tr>\n",
       "      <th>74061</th>\n",
       "      <td>74062</td>\n",
       "      <td>5490</td>\n",
       "      <td>Established</td>\n",
       "      <td>Pharmaceutical</td>\n",
       "    </tr>\n",
       "    <tr>\n",
       "      <th>74062</th>\n",
       "      <td>74063</td>\n",
       "      <td>5497</td>\n",
       "      <td>Established</td>\n",
       "      <td>Pharmaceutical</td>\n",
       "    </tr>\n",
       "    <tr>\n",
       "      <th>74063</th>\n",
       "      <td>74064</td>\n",
       "      <td>5497</td>\n",
       "      <td>Established</td>\n",
       "      <td>Pharmaceutical</td>\n",
       "    </tr>\n",
       "    <tr>\n",
       "      <th>74064</th>\n",
       "      <td>74065</td>\n",
       "      <td>5520</td>\n",
       "      <td>Established</td>\n",
       "      <td>Pharmaceutical</td>\n",
       "    </tr>\n",
       "    <tr>\n",
       "      <th>74065</th>\n",
       "      <td>74066</td>\n",
       "      <td>5194</td>\n",
       "      <td>Established</td>\n",
       "      <td>Grocery</td>\n",
       "    </tr>\n",
       "  </tbody>\n",
       "</table>\n",
       "</div>"
      ],
      "text/plain": [
       "       item_id  brand   brand_type        category\n",
       "74061    74062   5490  Established  Pharmaceutical\n",
       "74062    74063   5497  Established  Pharmaceutical\n",
       "74063    74064   5497  Established  Pharmaceutical\n",
       "74064    74065   5520  Established  Pharmaceutical\n",
       "74065    74066   5194  Established         Grocery"
      ]
     },
     "execution_count": 41,
     "metadata": {},
     "output_type": "execute_result"
    }
   ],
   "source": [
    "#obtaining last 5 rows as sample\n",
    "df_item_data.tail(5)"
   ]
  },
  {
   "cell_type": "code",
   "execution_count": 44,
   "id": "42be3ad6",
   "metadata": {},
   "outputs": [
    {
     "data": {
      "text/plain": [
       "0"
      ]
     },
     "execution_count": 44,
     "metadata": {},
     "output_type": "execute_result"
    }
   ],
   "source": [
    "#checking for any null values in data set\n",
    "df_item_data.isnull().sum().sum()"
   ]
  },
  {
   "cell_type": "code",
   "execution_count": 43,
   "id": "1e6c043d",
   "metadata": {},
   "outputs": [
    {
     "data": {
      "text/plain": [
       "0"
      ]
     },
     "execution_count": 43,
     "metadata": {},
     "output_type": "execute_result"
    }
   ],
   "source": [
    "#Data Standardization and Normalization is a common practice in machine learning. \n",
    "df_item_data.duplicated().sum()"
   ]
  },
  {
   "cell_type": "markdown",
   "id": "7e719508",
   "metadata": {},
   "source": [
    "### Train dataset"
   ]
  },
  {
   "cell_type": "code",
   "execution_count": 48,
   "id": "062be204",
   "metadata": {},
   "outputs": [
    {
     "data": {
      "text/html": [
       "<div>\n",
       "<style scoped>\n",
       "    .dataframe tbody tr th:only-of-type {\n",
       "        vertical-align: middle;\n",
       "    }\n",
       "\n",
       "    .dataframe tbody tr th {\n",
       "        vertical-align: top;\n",
       "    }\n",
       "\n",
       "    .dataframe thead th {\n",
       "        text-align: right;\n",
       "    }\n",
       "</style>\n",
       "<table border=\"1\" class=\"dataframe\">\n",
       "  <thead>\n",
       "    <tr style=\"text-align: right;\">\n",
       "      <th></th>\n",
       "      <th>id</th>\n",
       "      <th>campaign_id</th>\n",
       "      <th>coupon_id</th>\n",
       "      <th>customer_id</th>\n",
       "      <th>redemption_status</th>\n",
       "    </tr>\n",
       "  </thead>\n",
       "  <tbody>\n",
       "    <tr>\n",
       "      <th>78364</th>\n",
       "      <td>128587</td>\n",
       "      <td>8</td>\n",
       "      <td>71</td>\n",
       "      <td>1523</td>\n",
       "      <td>0</td>\n",
       "    </tr>\n",
       "    <tr>\n",
       "      <th>78365</th>\n",
       "      <td>128589</td>\n",
       "      <td>30</td>\n",
       "      <td>547</td>\n",
       "      <td>937</td>\n",
       "      <td>0</td>\n",
       "    </tr>\n",
       "    <tr>\n",
       "      <th>78366</th>\n",
       "      <td>128590</td>\n",
       "      <td>8</td>\n",
       "      <td>754</td>\n",
       "      <td>1004</td>\n",
       "      <td>0</td>\n",
       "    </tr>\n",
       "    <tr>\n",
       "      <th>78367</th>\n",
       "      <td>128592</td>\n",
       "      <td>13</td>\n",
       "      <td>134</td>\n",
       "      <td>71</td>\n",
       "      <td>0</td>\n",
       "    </tr>\n",
       "    <tr>\n",
       "      <th>78368</th>\n",
       "      <td>128595</td>\n",
       "      <td>13</td>\n",
       "      <td>681</td>\n",
       "      <td>623</td>\n",
       "      <td>0</td>\n",
       "    </tr>\n",
       "  </tbody>\n",
       "</table>\n",
       "</div>"
      ],
      "text/plain": [
       "           id  campaign_id  coupon_id  customer_id  redemption_status\n",
       "78364  128587            8         71         1523                  0\n",
       "78365  128589           30        547          937                  0\n",
       "78366  128590            8        754         1004                  0\n",
       "78367  128592           13        134           71                  0\n",
       "78368  128595           13        681          623                  0"
      ]
     },
     "execution_count": 48,
     "metadata": {},
     "output_type": "execute_result"
    }
   ],
   "source": [
    "#obtaining last 5 rows as sample\n",
    "df_train.tail(5)"
   ]
  },
  {
   "cell_type": "code",
   "execution_count": 49,
   "id": "30edbfc7",
   "metadata": {},
   "outputs": [
    {
     "data": {
      "text/plain": [
       "0"
      ]
     },
     "execution_count": 49,
     "metadata": {},
     "output_type": "execute_result"
    }
   ],
   "source": [
    "#checking for any null values in data set\n",
    "df_train.isnull().sum().sum()"
   ]
  },
  {
   "cell_type": "code",
   "execution_count": 50,
   "id": "eb1bea5e",
   "metadata": {},
   "outputs": [
    {
     "data": {
      "text/plain": [
       "0"
      ]
     },
     "execution_count": 50,
     "metadata": {},
     "output_type": "execute_result"
    }
   ],
   "source": [
    "#Data Standardization and Normalization is a common practice in machine learning. \n",
    "df_train.duplicated().sum()"
   ]
  },
  {
   "cell_type": "markdown",
   "id": "d6b5ce91",
   "metadata": {},
   "source": [
    "### Customer_transaction_data dataset"
   ]
  },
  {
   "cell_type": "code",
   "execution_count": 53,
   "id": "3e66dbe6",
   "metadata": {},
   "outputs": [
    {
     "data": {
      "text/html": [
       "<div>\n",
       "<style scoped>\n",
       "    .dataframe tbody tr th:only-of-type {\n",
       "        vertical-align: middle;\n",
       "    }\n",
       "\n",
       "    .dataframe tbody tr th {\n",
       "        vertical-align: top;\n",
       "    }\n",
       "\n",
       "    .dataframe thead th {\n",
       "        text-align: right;\n",
       "    }\n",
       "</style>\n",
       "<table border=\"1\" class=\"dataframe\">\n",
       "  <thead>\n",
       "    <tr style=\"text-align: right;\">\n",
       "      <th></th>\n",
       "      <th>date</th>\n",
       "      <th>customer_id</th>\n",
       "      <th>item_id</th>\n",
       "      <th>quantity</th>\n",
       "      <th>selling_price</th>\n",
       "      <th>other_discount</th>\n",
       "      <th>coupon_discount</th>\n",
       "    </tr>\n",
       "  </thead>\n",
       "  <tbody>\n",
       "    <tr>\n",
       "      <th>1324561</th>\n",
       "      <td>2013-06-30</td>\n",
       "      <td>1129</td>\n",
       "      <td>2777</td>\n",
       "      <td>1</td>\n",
       "      <td>284.60</td>\n",
       "      <td>-71.24</td>\n",
       "      <td>0.0</td>\n",
       "    </tr>\n",
       "    <tr>\n",
       "      <th>1324562</th>\n",
       "      <td>2013-06-30</td>\n",
       "      <td>1129</td>\n",
       "      <td>2953</td>\n",
       "      <td>4</td>\n",
       "      <td>42.74</td>\n",
       "      <td>-28.50</td>\n",
       "      <td>0.0</td>\n",
       "    </tr>\n",
       "    <tr>\n",
       "      <th>1324563</th>\n",
       "      <td>2013-06-30</td>\n",
       "      <td>1129</td>\n",
       "      <td>2971</td>\n",
       "      <td>6</td>\n",
       "      <td>64.12</td>\n",
       "      <td>-42.74</td>\n",
       "      <td>0.0</td>\n",
       "    </tr>\n",
       "    <tr>\n",
       "      <th>1324564</th>\n",
       "      <td>2013-06-30</td>\n",
       "      <td>1129</td>\n",
       "      <td>46984</td>\n",
       "      <td>1</td>\n",
       "      <td>95.82</td>\n",
       "      <td>0.00</td>\n",
       "      <td>0.0</td>\n",
       "    </tr>\n",
       "    <tr>\n",
       "      <th>1324565</th>\n",
       "      <td>2013-06-30</td>\n",
       "      <td>1129</td>\n",
       "      <td>64498</td>\n",
       "      <td>2</td>\n",
       "      <td>489.78</td>\n",
       "      <td>0.00</td>\n",
       "      <td>0.0</td>\n",
       "    </tr>\n",
       "  </tbody>\n",
       "</table>\n",
       "</div>"
      ],
      "text/plain": [
       "               date  customer_id  item_id  quantity  selling_price  \\\n",
       "1324561  2013-06-30         1129     2777         1         284.60   \n",
       "1324562  2013-06-30         1129     2953         4          42.74   \n",
       "1324563  2013-06-30         1129     2971         6          64.12   \n",
       "1324564  2013-06-30         1129    46984         1          95.82   \n",
       "1324565  2013-06-30         1129    64498         2         489.78   \n",
       "\n",
       "         other_discount  coupon_discount  \n",
       "1324561          -71.24              0.0  \n",
       "1324562          -28.50              0.0  \n",
       "1324563          -42.74              0.0  \n",
       "1324564            0.00              0.0  \n",
       "1324565            0.00              0.0  "
      ]
     },
     "execution_count": 53,
     "metadata": {},
     "output_type": "execute_result"
    }
   ],
   "source": [
    "#obtaining last 5 rows as sample\n",
    "df_customer_transaction_data.tail(5)"
   ]
  },
  {
   "cell_type": "code",
   "execution_count": 54,
   "id": "205f31dc",
   "metadata": {},
   "outputs": [
    {
     "data": {
      "text/plain": [
       "0"
      ]
     },
     "execution_count": 54,
     "metadata": {},
     "output_type": "execute_result"
    }
   ],
   "source": [
    "#checking for any null values in data set\n",
    "df_customer_transaction_data.isnull().sum().sum()"
   ]
  },
  {
   "cell_type": "code",
   "execution_count": 57,
   "id": "079bee91",
   "metadata": {},
   "outputs": [
    {
     "data": {
      "text/plain": [
       "2916"
      ]
     },
     "execution_count": 57,
     "metadata": {},
     "output_type": "execute_result"
    }
   ],
   "source": [
    "#Data Standardization and Normalization is a common practice in machine learning. \n",
    "df_customer_transaction_data.duplicated().sum()"
   ]
  },
  {
   "cell_type": "markdown",
   "id": "71259f68",
   "metadata": {},
   "source": [
    "This dataset contains the duplicated rows.It is always the best practice to make any changes on the copy of the original dataset.So we will make a copy of this data set and drop all the duplicate values in it."
   ]
  },
  {
   "cell_type": "code",
   "execution_count": 58,
   "id": "0f39f6d9",
   "metadata": {},
   "outputs": [],
   "source": [
    "#Making a copy of data set\n",
    "df_customer_transaction_data_copy=df_customer_transaction_data.copy(deep=True) "
   ]
  },
  {
   "cell_type": "code",
   "execution_count": 59,
   "id": "14f28601",
   "metadata": {},
   "outputs": [
    {
     "data": {
      "text/plain": [
       "2916"
      ]
     },
     "execution_count": 59,
     "metadata": {},
     "output_type": "execute_result"
    }
   ],
   "source": [
    "df_customer_transaction_data_copy.duplicated().sum()"
   ]
  },
  {
   "cell_type": "code",
   "execution_count": 60,
   "id": "b0f229c6",
   "metadata": {},
   "outputs": [],
   "source": [
    "#Remoing the duplicates from the copy dataset\n",
    "df_customer_transaction_data_copy.drop_duplicates(keep='first',inplace=True)"
   ]
  },
  {
   "cell_type": "code",
   "execution_count": 61,
   "id": "51f757a6",
   "metadata": {},
   "outputs": [
    {
     "data": {
      "text/plain": [
       "0"
      ]
     },
     "execution_count": 61,
     "metadata": {},
     "output_type": "execute_result"
    }
   ],
   "source": [
    "df_customer_transaction_data_copy.duplicated().sum()"
   ]
  },
  {
   "cell_type": "code",
   "execution_count": 62,
   "id": "0071ca28",
   "metadata": {},
   "outputs": [
    {
     "data": {
      "text/plain": [
       "2916"
      ]
     },
     "execution_count": 62,
     "metadata": {},
     "output_type": "execute_result"
    }
   ],
   "source": [
    "df_customer_transaction_data.duplicated().sum()"
   ]
  },
  {
   "cell_type": "markdown",
   "id": "f17cba1d",
   "metadata": {},
   "source": [
    "The copied dataset is now free from data redundancy while the original datset reamins untouched."
   ]
  },
  {
   "cell_type": "markdown",
   "id": "cef53d5e",
   "metadata": {},
   "source": [
    "## ----------------DATA CLEANING AND TRANSFORMATION DONE------------------------"
   ]
  },
  {
   "cell_type": "markdown",
   "id": "ce09126c",
   "metadata": {},
   "source": [
    "# EXPLORATORY DATA ANALYSIS"
   ]
  },
  {
   "cell_type": "markdown",
   "id": "409d25f4",
   "metadata": {},
   "source": [
    "### campaign data set"
   ]
  },
  {
   "cell_type": "code",
   "execution_count": 63,
   "id": "72b7ccc4",
   "metadata": {},
   "outputs": [
    {
     "data": {
      "text/plain": [
       "(28, 4)"
      ]
     },
     "execution_count": 63,
     "metadata": {},
     "output_type": "execute_result"
    }
   ],
   "source": [
    "df_campaign_data.shape"
   ]
  },
  {
   "cell_type": "code",
   "execution_count": 65,
   "id": "88b6921b",
   "metadata": {},
   "outputs": [
    {
     "name": "stdout",
     "output_type": "stream",
     "text": [
      "<class 'pandas.core.frame.DataFrame'>\n",
      "RangeIndex: 28 entries, 0 to 27\n",
      "Data columns (total 4 columns):\n",
      " #   Column         Non-Null Count  Dtype \n",
      "---  ------         --------------  ----- \n",
      " 0   campaign_id    28 non-null     int64 \n",
      " 1   campaign_type  28 non-null     object\n",
      " 2   start_date     28 non-null     object\n",
      " 3   end_date       28 non-null     object\n",
      "dtypes: int64(1), object(3)\n",
      "memory usage: 1.0+ KB\n"
     ]
    }
   ],
   "source": [
    "df_campaign_data.info()"
   ]
  },
  {
   "cell_type": "markdown",
   "id": "07683bd2",
   "metadata": {},
   "source": [
    "This data set has campaign id as integer with no null values and other information can be seen from the above."
   ]
  },
  {
   "cell_type": "code",
   "execution_count": 66,
   "id": "5733f883",
   "metadata": {},
   "outputs": [
    {
     "data": {
      "text/html": [
       "<div>\n",
       "<style scoped>\n",
       "    .dataframe tbody tr th:only-of-type {\n",
       "        vertical-align: middle;\n",
       "    }\n",
       "\n",
       "    .dataframe tbody tr th {\n",
       "        vertical-align: top;\n",
       "    }\n",
       "\n",
       "    .dataframe thead th {\n",
       "        text-align: right;\n",
       "    }\n",
       "</style>\n",
       "<table border=\"1\" class=\"dataframe\">\n",
       "  <thead>\n",
       "    <tr style=\"text-align: right;\">\n",
       "      <th></th>\n",
       "      <th>campaign_id</th>\n",
       "    </tr>\n",
       "  </thead>\n",
       "  <tbody>\n",
       "    <tr>\n",
       "      <th>count</th>\n",
       "      <td>28.000000</td>\n",
       "    </tr>\n",
       "    <tr>\n",
       "      <th>mean</th>\n",
       "      <td>15.571429</td>\n",
       "    </tr>\n",
       "    <tr>\n",
       "      <th>std</th>\n",
       "      <td>9.118271</td>\n",
       "    </tr>\n",
       "    <tr>\n",
       "      <th>min</th>\n",
       "      <td>1.000000</td>\n",
       "    </tr>\n",
       "    <tr>\n",
       "      <th>25%</th>\n",
       "      <td>7.750000</td>\n",
       "    </tr>\n",
       "    <tr>\n",
       "      <th>50%</th>\n",
       "      <td>16.500000</td>\n",
       "    </tr>\n",
       "    <tr>\n",
       "      <th>75%</th>\n",
       "      <td>23.250000</td>\n",
       "    </tr>\n",
       "    <tr>\n",
       "      <th>max</th>\n",
       "      <td>30.000000</td>\n",
       "    </tr>\n",
       "  </tbody>\n",
       "</table>\n",
       "</div>"
      ],
      "text/plain": [
       "       campaign_id\n",
       "count    28.000000\n",
       "mean     15.571429\n",
       "std       9.118271\n",
       "min       1.000000\n",
       "25%       7.750000\n",
       "50%      16.500000\n",
       "75%      23.250000\n",
       "max      30.000000"
      ]
     },
     "execution_count": 66,
     "metadata": {},
     "output_type": "execute_result"
    }
   ],
   "source": [
    "df_campaign_data.describe()"
   ]
  },
  {
   "cell_type": "markdown",
   "id": "9af0dd9d",
   "metadata": {},
   "source": [
    "## Finding the correlation\n",
    "df_campaign_data.corr()"
   ]
  },
  {
   "cell_type": "markdown",
   "id": "3f9ce163",
   "metadata": {},
   "source": [
    "### Coupon_item_mapping"
   ]
  },
  {
   "cell_type": "code",
   "execution_count": 68,
   "id": "b0b8a7cf",
   "metadata": {},
   "outputs": [
    {
     "data": {
      "text/plain": [
       "(92663, 2)"
      ]
     },
     "execution_count": 68,
     "metadata": {},
     "output_type": "execute_result"
    }
   ],
   "source": [
    "df_coupon_item_mapping.shape"
   ]
  },
  {
   "cell_type": "code",
   "execution_count": 69,
   "id": "75cd80da",
   "metadata": {},
   "outputs": [
    {
     "name": "stdout",
     "output_type": "stream",
     "text": [
      "<class 'pandas.core.frame.DataFrame'>\n",
      "RangeIndex: 92663 entries, 0 to 92662\n",
      "Data columns (total 2 columns):\n",
      " #   Column     Non-Null Count  Dtype\n",
      "---  ------     --------------  -----\n",
      " 0   coupon_id  92663 non-null  int64\n",
      " 1   item_id    92663 non-null  int64\n",
      "dtypes: int64(2)\n",
      "memory usage: 1.4 MB\n"
     ]
    }
   ],
   "source": [
    "df_coupon_item_mapping.info()"
   ]
  },
  {
   "cell_type": "code",
   "execution_count": 70,
   "id": "fa4b4007",
   "metadata": {},
   "outputs": [
    {
     "data": {
      "text/html": [
       "<div>\n",
       "<style scoped>\n",
       "    .dataframe tbody tr th:only-of-type {\n",
       "        vertical-align: middle;\n",
       "    }\n",
       "\n",
       "    .dataframe tbody tr th {\n",
       "        vertical-align: top;\n",
       "    }\n",
       "\n",
       "    .dataframe thead th {\n",
       "        text-align: right;\n",
       "    }\n",
       "</style>\n",
       "<table border=\"1\" class=\"dataframe\">\n",
       "  <thead>\n",
       "    <tr style=\"text-align: right;\">\n",
       "      <th></th>\n",
       "      <th>coupon_id</th>\n",
       "      <th>item_id</th>\n",
       "    </tr>\n",
       "  </thead>\n",
       "  <tbody>\n",
       "    <tr>\n",
       "      <th>count</th>\n",
       "      <td>92663.000000</td>\n",
       "      <td>92663.000000</td>\n",
       "    </tr>\n",
       "    <tr>\n",
       "      <th>mean</th>\n",
       "      <td>155.967387</td>\n",
       "      <td>36508.613071</td>\n",
       "    </tr>\n",
       "    <tr>\n",
       "      <th>std</th>\n",
       "      <td>282.991720</td>\n",
       "      <td>21131.312716</td>\n",
       "    </tr>\n",
       "    <tr>\n",
       "      <th>min</th>\n",
       "      <td>1.000000</td>\n",
       "      <td>1.000000</td>\n",
       "    </tr>\n",
       "    <tr>\n",
       "      <th>25%</th>\n",
       "      <td>22.000000</td>\n",
       "      <td>18255.500000</td>\n",
       "    </tr>\n",
       "    <tr>\n",
       "      <th>50%</th>\n",
       "      <td>30.000000</td>\n",
       "      <td>37955.000000</td>\n",
       "    </tr>\n",
       "    <tr>\n",
       "      <th>75%</th>\n",
       "      <td>42.000000</td>\n",
       "      <td>54191.500000</td>\n",
       "    </tr>\n",
       "    <tr>\n",
       "      <th>max</th>\n",
       "      <td>1116.000000</td>\n",
       "      <td>74061.000000</td>\n",
       "    </tr>\n",
       "  </tbody>\n",
       "</table>\n",
       "</div>"
      ],
      "text/plain": [
       "          coupon_id       item_id\n",
       "count  92663.000000  92663.000000\n",
       "mean     155.967387  36508.613071\n",
       "std      282.991720  21131.312716\n",
       "min        1.000000      1.000000\n",
       "25%       22.000000  18255.500000\n",
       "50%       30.000000  37955.000000\n",
       "75%       42.000000  54191.500000\n",
       "max     1116.000000  74061.000000"
      ]
     },
     "execution_count": 70,
     "metadata": {},
     "output_type": "execute_result"
    }
   ],
   "source": [
    "df_coupon_item_mapping.describe()"
   ]
  },
  {
   "cell_type": "code",
   "execution_count": 71,
   "id": "a94089f4",
   "metadata": {},
   "outputs": [
    {
     "data": {
      "text/html": [
       "<div>\n",
       "<style scoped>\n",
       "    .dataframe tbody tr th:only-of-type {\n",
       "        vertical-align: middle;\n",
       "    }\n",
       "\n",
       "    .dataframe tbody tr th {\n",
       "        vertical-align: top;\n",
       "    }\n",
       "\n",
       "    .dataframe thead th {\n",
       "        text-align: right;\n",
       "    }\n",
       "</style>\n",
       "<table border=\"1\" class=\"dataframe\">\n",
       "  <thead>\n",
       "    <tr style=\"text-align: right;\">\n",
       "      <th></th>\n",
       "      <th>coupon_id</th>\n",
       "      <th>item_id</th>\n",
       "    </tr>\n",
       "  </thead>\n",
       "  <tbody>\n",
       "    <tr>\n",
       "      <th>coupon_id</th>\n",
       "      <td>1.000000</td>\n",
       "      <td>-0.027016</td>\n",
       "    </tr>\n",
       "    <tr>\n",
       "      <th>item_id</th>\n",
       "      <td>-0.027016</td>\n",
       "      <td>1.000000</td>\n",
       "    </tr>\n",
       "  </tbody>\n",
       "</table>\n",
       "</div>"
      ],
      "text/plain": [
       "           coupon_id   item_id\n",
       "coupon_id   1.000000 -0.027016\n",
       "item_id    -0.027016  1.000000"
      ]
     },
     "execution_count": 71,
     "metadata": {},
     "output_type": "execute_result"
    }
   ],
   "source": [
    "df_coupon_item_mapping.corr()"
   ]
  },
  {
   "cell_type": "markdown",
   "id": "08f2f5ef",
   "metadata": {},
   "source": [
    "### Customer_demographic dataset"
   ]
  },
  {
   "cell_type": "code",
   "execution_count": 72,
   "id": "a412f597",
   "metadata": {},
   "outputs": [
    {
     "data": {
      "text/plain": [
       "(760, 7)"
      ]
     },
     "execution_count": 72,
     "metadata": {},
     "output_type": "execute_result"
    }
   ],
   "source": [
    "df_customer_demographics.shape"
   ]
  },
  {
   "cell_type": "code",
   "execution_count": 73,
   "id": "87acc387",
   "metadata": {},
   "outputs": [
    {
     "name": "stdout",
     "output_type": "stream",
     "text": [
      "<class 'pandas.core.frame.DataFrame'>\n",
      "RangeIndex: 760 entries, 0 to 759\n",
      "Data columns (total 7 columns):\n",
      " #   Column          Non-Null Count  Dtype \n",
      "---  ------          --------------  ----- \n",
      " 0   customer_id     760 non-null    int64 \n",
      " 1   age_range       760 non-null    object\n",
      " 2   marital_status  431 non-null    object\n",
      " 3   rented          760 non-null    int64 \n",
      " 4   family_size     760 non-null    object\n",
      " 5   no_of_children  222 non-null    object\n",
      " 6   income_bracket  760 non-null    int64 \n",
      "dtypes: int64(3), object(4)\n",
      "memory usage: 41.7+ KB\n"
     ]
    }
   ],
   "source": [
    "df_customer_demographics.info()"
   ]
  },
  {
   "cell_type": "code",
   "execution_count": 74,
   "id": "9acfcd1d",
   "metadata": {},
   "outputs": [
    {
     "data": {
      "text/html": [
       "<div>\n",
       "<style scoped>\n",
       "    .dataframe tbody tr th:only-of-type {\n",
       "        vertical-align: middle;\n",
       "    }\n",
       "\n",
       "    .dataframe tbody tr th {\n",
       "        vertical-align: top;\n",
       "    }\n",
       "\n",
       "    .dataframe thead th {\n",
       "        text-align: right;\n",
       "    }\n",
       "</style>\n",
       "<table border=\"1\" class=\"dataframe\">\n",
       "  <thead>\n",
       "    <tr style=\"text-align: right;\">\n",
       "      <th></th>\n",
       "      <th>customer_id</th>\n",
       "      <th>rented</th>\n",
       "      <th>income_bracket</th>\n",
       "    </tr>\n",
       "  </thead>\n",
       "  <tbody>\n",
       "    <tr>\n",
       "      <th>count</th>\n",
       "      <td>760.000000</td>\n",
       "      <td>760.000000</td>\n",
       "      <td>760.000000</td>\n",
       "    </tr>\n",
       "    <tr>\n",
       "      <th>mean</th>\n",
       "      <td>779.201316</td>\n",
       "      <td>0.053947</td>\n",
       "      <td>4.715789</td>\n",
       "    </tr>\n",
       "    <tr>\n",
       "      <th>std</th>\n",
       "      <td>459.754429</td>\n",
       "      <td>0.226063</td>\n",
       "      <td>2.258817</td>\n",
       "    </tr>\n",
       "    <tr>\n",
       "      <th>min</th>\n",
       "      <td>1.000000</td>\n",
       "      <td>0.000000</td>\n",
       "      <td>1.000000</td>\n",
       "    </tr>\n",
       "    <tr>\n",
       "      <th>25%</th>\n",
       "      <td>382.750000</td>\n",
       "      <td>0.000000</td>\n",
       "      <td>3.000000</td>\n",
       "    </tr>\n",
       "    <tr>\n",
       "      <th>50%</th>\n",
       "      <td>774.500000</td>\n",
       "      <td>0.000000</td>\n",
       "      <td>5.000000</td>\n",
       "    </tr>\n",
       "    <tr>\n",
       "      <th>75%</th>\n",
       "      <td>1187.250000</td>\n",
       "      <td>0.000000</td>\n",
       "      <td>6.000000</td>\n",
       "    </tr>\n",
       "    <tr>\n",
       "      <th>max</th>\n",
       "      <td>1581.000000</td>\n",
       "      <td>1.000000</td>\n",
       "      <td>12.000000</td>\n",
       "    </tr>\n",
       "  </tbody>\n",
       "</table>\n",
       "</div>"
      ],
      "text/plain": [
       "       customer_id      rented  income_bracket\n",
       "count   760.000000  760.000000      760.000000\n",
       "mean    779.201316    0.053947        4.715789\n",
       "std     459.754429    0.226063        2.258817\n",
       "min       1.000000    0.000000        1.000000\n",
       "25%     382.750000    0.000000        3.000000\n",
       "50%     774.500000    0.000000        5.000000\n",
       "75%    1187.250000    0.000000        6.000000\n",
       "max    1581.000000    1.000000       12.000000"
      ]
     },
     "execution_count": 74,
     "metadata": {},
     "output_type": "execute_result"
    }
   ],
   "source": [
    "df_customer_demographics.describe()"
   ]
  },
  {
   "cell_type": "code",
   "execution_count": 75,
   "id": "24082c0d",
   "metadata": {},
   "outputs": [
    {
     "data": {
      "text/html": [
       "<div>\n",
       "<style scoped>\n",
       "    .dataframe tbody tr th:only-of-type {\n",
       "        vertical-align: middle;\n",
       "    }\n",
       "\n",
       "    .dataframe tbody tr th {\n",
       "        vertical-align: top;\n",
       "    }\n",
       "\n",
       "    .dataframe thead th {\n",
       "        text-align: right;\n",
       "    }\n",
       "</style>\n",
       "<table border=\"1\" class=\"dataframe\">\n",
       "  <thead>\n",
       "    <tr style=\"text-align: right;\">\n",
       "      <th></th>\n",
       "      <th>customer_id</th>\n",
       "      <th>rented</th>\n",
       "      <th>income_bracket</th>\n",
       "    </tr>\n",
       "  </thead>\n",
       "  <tbody>\n",
       "    <tr>\n",
       "      <th>customer_id</th>\n",
       "      <td>1.000000</td>\n",
       "      <td>0.020431</td>\n",
       "      <td>0.071477</td>\n",
       "    </tr>\n",
       "    <tr>\n",
       "      <th>rented</th>\n",
       "      <td>0.020431</td>\n",
       "      <td>1.000000</td>\n",
       "      <td>-0.122164</td>\n",
       "    </tr>\n",
       "    <tr>\n",
       "      <th>income_bracket</th>\n",
       "      <td>0.071477</td>\n",
       "      <td>-0.122164</td>\n",
       "      <td>1.000000</td>\n",
       "    </tr>\n",
       "  </tbody>\n",
       "</table>\n",
       "</div>"
      ],
      "text/plain": [
       "                customer_id    rented  income_bracket\n",
       "customer_id        1.000000  0.020431        0.071477\n",
       "rented             0.020431  1.000000       -0.122164\n",
       "income_bracket     0.071477 -0.122164        1.000000"
      ]
     },
     "execution_count": 75,
     "metadata": {},
     "output_type": "execute_result"
    }
   ],
   "source": [
    "df_customer_demographics.corr()"
   ]
  },
  {
   "cell_type": "markdown",
   "id": "47c8b59e",
   "metadata": {},
   "source": [
    "### Item_data dataset"
   ]
  },
  {
   "cell_type": "code",
   "execution_count": 76,
   "id": "1ab5f9d0",
   "metadata": {},
   "outputs": [
    {
     "data": {
      "text/plain": [
       "(74066, 4)"
      ]
     },
     "execution_count": 76,
     "metadata": {},
     "output_type": "execute_result"
    }
   ],
   "source": [
    "df_item_data.shape"
   ]
  },
  {
   "cell_type": "code",
   "execution_count": 78,
   "id": "2ee75763",
   "metadata": {},
   "outputs": [
    {
     "name": "stdout",
     "output_type": "stream",
     "text": [
      "<class 'pandas.core.frame.DataFrame'>\n",
      "RangeIndex: 74066 entries, 0 to 74065\n",
      "Data columns (total 4 columns):\n",
      " #   Column      Non-Null Count  Dtype \n",
      "---  ------      --------------  ----- \n",
      " 0   item_id     74066 non-null  int64 \n",
      " 1   brand       74066 non-null  int64 \n",
      " 2   brand_type  74066 non-null  object\n",
      " 3   category    74066 non-null  object\n",
      "dtypes: int64(2), object(2)\n",
      "memory usage: 2.3+ MB\n"
     ]
    }
   ],
   "source": [
    "df_item_data.info()"
   ]
  },
  {
   "cell_type": "code",
   "execution_count": 79,
   "id": "ea3092f8",
   "metadata": {},
   "outputs": [
    {
     "data": {
      "text/html": [
       "<div>\n",
       "<style scoped>\n",
       "    .dataframe tbody tr th:only-of-type {\n",
       "        vertical-align: middle;\n",
       "    }\n",
       "\n",
       "    .dataframe tbody tr th {\n",
       "        vertical-align: top;\n",
       "    }\n",
       "\n",
       "    .dataframe thead th {\n",
       "        text-align: right;\n",
       "    }\n",
       "</style>\n",
       "<table border=\"1\" class=\"dataframe\">\n",
       "  <thead>\n",
       "    <tr style=\"text-align: right;\">\n",
       "      <th></th>\n",
       "      <th>item_id</th>\n",
       "      <th>brand</th>\n",
       "    </tr>\n",
       "  </thead>\n",
       "  <tbody>\n",
       "    <tr>\n",
       "      <th>count</th>\n",
       "      <td>74066.000000</td>\n",
       "      <td>74066.000000</td>\n",
       "    </tr>\n",
       "    <tr>\n",
       "      <th>mean</th>\n",
       "      <td>37033.500000</td>\n",
       "      <td>1485.560055</td>\n",
       "    </tr>\n",
       "    <tr>\n",
       "      <th>std</th>\n",
       "      <td>21381.156856</td>\n",
       "      <td>1537.385673</td>\n",
       "    </tr>\n",
       "    <tr>\n",
       "      <th>min</th>\n",
       "      <td>1.000000</td>\n",
       "      <td>1.000000</td>\n",
       "    </tr>\n",
       "    <tr>\n",
       "      <th>25%</th>\n",
       "      <td>18517.250000</td>\n",
       "      <td>278.000000</td>\n",
       "    </tr>\n",
       "    <tr>\n",
       "      <th>50%</th>\n",
       "      <td>37033.500000</td>\n",
       "      <td>978.000000</td>\n",
       "    </tr>\n",
       "    <tr>\n",
       "      <th>75%</th>\n",
       "      <td>55549.750000</td>\n",
       "      <td>2013.000000</td>\n",
       "    </tr>\n",
       "    <tr>\n",
       "      <th>max</th>\n",
       "      <td>74066.000000</td>\n",
       "      <td>5528.000000</td>\n",
       "    </tr>\n",
       "  </tbody>\n",
       "</table>\n",
       "</div>"
      ],
      "text/plain": [
       "            item_id         brand\n",
       "count  74066.000000  74066.000000\n",
       "mean   37033.500000   1485.560055\n",
       "std    21381.156856   1537.385673\n",
       "min        1.000000      1.000000\n",
       "25%    18517.250000    278.000000\n",
       "50%    37033.500000    978.000000\n",
       "75%    55549.750000   2013.000000\n",
       "max    74066.000000   5528.000000"
      ]
     },
     "execution_count": 79,
     "metadata": {},
     "output_type": "execute_result"
    }
   ],
   "source": [
    "df_item_data.describe()"
   ]
  },
  {
   "cell_type": "code",
   "execution_count": 80,
   "id": "6a11cdc4",
   "metadata": {},
   "outputs": [
    {
     "data": {
      "text/html": [
       "<div>\n",
       "<style scoped>\n",
       "    .dataframe tbody tr th:only-of-type {\n",
       "        vertical-align: middle;\n",
       "    }\n",
       "\n",
       "    .dataframe tbody tr th {\n",
       "        vertical-align: top;\n",
       "    }\n",
       "\n",
       "    .dataframe thead th {\n",
       "        text-align: right;\n",
       "    }\n",
       "</style>\n",
       "<table border=\"1\" class=\"dataframe\">\n",
       "  <thead>\n",
       "    <tr style=\"text-align: right;\">\n",
       "      <th></th>\n",
       "      <th>item_id</th>\n",
       "      <th>brand</th>\n",
       "    </tr>\n",
       "  </thead>\n",
       "  <tbody>\n",
       "    <tr>\n",
       "      <th>item_id</th>\n",
       "      <td>1.000000</td>\n",
       "      <td>0.158051</td>\n",
       "    </tr>\n",
       "    <tr>\n",
       "      <th>brand</th>\n",
       "      <td>0.158051</td>\n",
       "      <td>1.000000</td>\n",
       "    </tr>\n",
       "  </tbody>\n",
       "</table>\n",
       "</div>"
      ],
      "text/plain": [
       "          item_id     brand\n",
       "item_id  1.000000  0.158051\n",
       "brand    0.158051  1.000000"
      ]
     },
     "execution_count": 80,
     "metadata": {},
     "output_type": "execute_result"
    }
   ],
   "source": [
    "df_item_data.corr()"
   ]
  },
  {
   "cell_type": "markdown",
   "id": "3545b59c",
   "metadata": {},
   "source": [
    "### Train dataset"
   ]
  },
  {
   "cell_type": "code",
   "execution_count": 81,
   "id": "7c0d0d49",
   "metadata": {},
   "outputs": [
    {
     "data": {
      "text/plain": [
       "(78369, 5)"
      ]
     },
     "execution_count": 81,
     "metadata": {},
     "output_type": "execute_result"
    }
   ],
   "source": [
    "df_train.shape"
   ]
  },
  {
   "cell_type": "code",
   "execution_count": 82,
   "id": "3c765a28",
   "metadata": {},
   "outputs": [
    {
     "name": "stdout",
     "output_type": "stream",
     "text": [
      "<class 'pandas.core.frame.DataFrame'>\n",
      "RangeIndex: 78369 entries, 0 to 78368\n",
      "Data columns (total 5 columns):\n",
      " #   Column             Non-Null Count  Dtype\n",
      "---  ------             --------------  -----\n",
      " 0   id                 78369 non-null  int64\n",
      " 1   campaign_id        78369 non-null  int64\n",
      " 2   coupon_id          78369 non-null  int64\n",
      " 3   customer_id        78369 non-null  int64\n",
      " 4   redemption_status  78369 non-null  int64\n",
      "dtypes: int64(5)\n",
      "memory usage: 3.0 MB\n"
     ]
    }
   ],
   "source": [
    "df_train.info()"
   ]
  },
  {
   "cell_type": "code",
   "execution_count": 83,
   "id": "fdd6b169",
   "metadata": {},
   "outputs": [
    {
     "data": {
      "text/html": [
       "<div>\n",
       "<style scoped>\n",
       "    .dataframe tbody tr th:only-of-type {\n",
       "        vertical-align: middle;\n",
       "    }\n",
       "\n",
       "    .dataframe tbody tr th {\n",
       "        vertical-align: top;\n",
       "    }\n",
       "\n",
       "    .dataframe thead th {\n",
       "        text-align: right;\n",
       "    }\n",
       "</style>\n",
       "<table border=\"1\" class=\"dataframe\">\n",
       "  <thead>\n",
       "    <tr style=\"text-align: right;\">\n",
       "      <th></th>\n",
       "      <th>id</th>\n",
       "      <th>campaign_id</th>\n",
       "      <th>coupon_id</th>\n",
       "      <th>customer_id</th>\n",
       "      <th>redemption_status</th>\n",
       "    </tr>\n",
       "  </thead>\n",
       "  <tbody>\n",
       "    <tr>\n",
       "      <th>count</th>\n",
       "      <td>78369.000000</td>\n",
       "      <td>78369.000000</td>\n",
       "      <td>78369.000000</td>\n",
       "      <td>78369.000000</td>\n",
       "      <td>78369.000000</td>\n",
       "    </tr>\n",
       "    <tr>\n",
       "      <th>mean</th>\n",
       "      <td>64347.975449</td>\n",
       "      <td>13.974441</td>\n",
       "      <td>566.363243</td>\n",
       "      <td>787.451888</td>\n",
       "      <td>0.009302</td>\n",
       "    </tr>\n",
       "    <tr>\n",
       "      <th>std</th>\n",
       "      <td>37126.440855</td>\n",
       "      <td>8.019215</td>\n",
       "      <td>329.966054</td>\n",
       "      <td>456.811339</td>\n",
       "      <td>0.095999</td>\n",
       "    </tr>\n",
       "    <tr>\n",
       "      <th>min</th>\n",
       "      <td>1.000000</td>\n",
       "      <td>1.000000</td>\n",
       "      <td>1.000000</td>\n",
       "      <td>1.000000</td>\n",
       "      <td>0.000000</td>\n",
       "    </tr>\n",
       "    <tr>\n",
       "      <th>25%</th>\n",
       "      <td>32260.000000</td>\n",
       "      <td>8.000000</td>\n",
       "      <td>280.000000</td>\n",
       "      <td>399.000000</td>\n",
       "      <td>0.000000</td>\n",
       "    </tr>\n",
       "    <tr>\n",
       "      <th>50%</th>\n",
       "      <td>64318.000000</td>\n",
       "      <td>13.000000</td>\n",
       "      <td>597.000000</td>\n",
       "      <td>781.000000</td>\n",
       "      <td>0.000000</td>\n",
       "    </tr>\n",
       "    <tr>\n",
       "      <th>75%</th>\n",
       "      <td>96577.000000</td>\n",
       "      <td>13.000000</td>\n",
       "      <td>857.000000</td>\n",
       "      <td>1190.000000</td>\n",
       "      <td>0.000000</td>\n",
       "    </tr>\n",
       "    <tr>\n",
       "      <th>max</th>\n",
       "      <td>128595.000000</td>\n",
       "      <td>30.000000</td>\n",
       "      <td>1115.000000</td>\n",
       "      <td>1582.000000</td>\n",
       "      <td>1.000000</td>\n",
       "    </tr>\n",
       "  </tbody>\n",
       "</table>\n",
       "</div>"
      ],
      "text/plain": [
       "                  id   campaign_id     coupon_id   customer_id  \\\n",
       "count   78369.000000  78369.000000  78369.000000  78369.000000   \n",
       "mean    64347.975449     13.974441    566.363243    787.451888   \n",
       "std     37126.440855      8.019215    329.966054    456.811339   \n",
       "min         1.000000      1.000000      1.000000      1.000000   \n",
       "25%     32260.000000      8.000000    280.000000    399.000000   \n",
       "50%     64318.000000     13.000000    597.000000    781.000000   \n",
       "75%     96577.000000     13.000000    857.000000   1190.000000   \n",
       "max    128595.000000     30.000000   1115.000000   1582.000000   \n",
       "\n",
       "       redemption_status  \n",
       "count       78369.000000  \n",
       "mean            0.009302  \n",
       "std             0.095999  \n",
       "min             0.000000  \n",
       "25%             0.000000  \n",
       "50%             0.000000  \n",
       "75%             0.000000  \n",
       "max             1.000000  "
      ]
     },
     "execution_count": 83,
     "metadata": {},
     "output_type": "execute_result"
    }
   ],
   "source": [
    "df_train.describe()"
   ]
  },
  {
   "cell_type": "code",
   "execution_count": 84,
   "id": "8ab10a20",
   "metadata": {},
   "outputs": [
    {
     "data": {
      "text/html": [
       "<div>\n",
       "<style scoped>\n",
       "    .dataframe tbody tr th:only-of-type {\n",
       "        vertical-align: middle;\n",
       "    }\n",
       "\n",
       "    .dataframe tbody tr th {\n",
       "        vertical-align: top;\n",
       "    }\n",
       "\n",
       "    .dataframe thead th {\n",
       "        text-align: right;\n",
       "    }\n",
       "</style>\n",
       "<table border=\"1\" class=\"dataframe\">\n",
       "  <thead>\n",
       "    <tr style=\"text-align: right;\">\n",
       "      <th></th>\n",
       "      <th>id</th>\n",
       "      <th>campaign_id</th>\n",
       "      <th>coupon_id</th>\n",
       "      <th>customer_id</th>\n",
       "      <th>redemption_status</th>\n",
       "    </tr>\n",
       "  </thead>\n",
       "  <tbody>\n",
       "    <tr>\n",
       "      <th>id</th>\n",
       "      <td>1.000000</td>\n",
       "      <td>0.006443</td>\n",
       "      <td>-0.001067</td>\n",
       "      <td>-0.000088</td>\n",
       "      <td>-0.000328</td>\n",
       "    </tr>\n",
       "    <tr>\n",
       "      <th>campaign_id</th>\n",
       "      <td>0.006443</td>\n",
       "      <td>1.000000</td>\n",
       "      <td>0.102046</td>\n",
       "      <td>-0.003556</td>\n",
       "      <td>-0.007548</td>\n",
       "    </tr>\n",
       "    <tr>\n",
       "      <th>coupon_id</th>\n",
       "      <td>-0.001067</td>\n",
       "      <td>0.102046</td>\n",
       "      <td>1.000000</td>\n",
       "      <td>0.007551</td>\n",
       "      <td>0.023334</td>\n",
       "    </tr>\n",
       "    <tr>\n",
       "      <th>customer_id</th>\n",
       "      <td>-0.000088</td>\n",
       "      <td>-0.003556</td>\n",
       "      <td>0.007551</td>\n",
       "      <td>1.000000</td>\n",
       "      <td>0.011690</td>\n",
       "    </tr>\n",
       "    <tr>\n",
       "      <th>redemption_status</th>\n",
       "      <td>-0.000328</td>\n",
       "      <td>-0.007548</td>\n",
       "      <td>0.023334</td>\n",
       "      <td>0.011690</td>\n",
       "      <td>1.000000</td>\n",
       "    </tr>\n",
       "  </tbody>\n",
       "</table>\n",
       "</div>"
      ],
      "text/plain": [
       "                         id  campaign_id  coupon_id  customer_id  \\\n",
       "id                 1.000000     0.006443  -0.001067    -0.000088   \n",
       "campaign_id        0.006443     1.000000   0.102046    -0.003556   \n",
       "coupon_id         -0.001067     0.102046   1.000000     0.007551   \n",
       "customer_id       -0.000088    -0.003556   0.007551     1.000000   \n",
       "redemption_status -0.000328    -0.007548   0.023334     0.011690   \n",
       "\n",
       "                   redemption_status  \n",
       "id                         -0.000328  \n",
       "campaign_id                -0.007548  \n",
       "coupon_id                   0.023334  \n",
       "customer_id                 0.011690  \n",
       "redemption_status           1.000000  "
      ]
     },
     "execution_count": 84,
     "metadata": {},
     "output_type": "execute_result"
    }
   ],
   "source": [
    "df_train.corr()"
   ]
  },
  {
   "cell_type": "markdown",
   "id": "afb516e6",
   "metadata": {},
   "source": [
    "### Customer_transaction_data dataset"
   ]
  },
  {
   "cell_type": "code",
   "execution_count": 85,
   "id": "4c0daf8f",
   "metadata": {},
   "outputs": [
    {
     "data": {
      "text/plain": [
       "(1324566, 7)"
      ]
     },
     "execution_count": 85,
     "metadata": {},
     "output_type": "execute_result"
    }
   ],
   "source": [
    "df_customer_transaction_data.shape"
   ]
  },
  {
   "cell_type": "code",
   "execution_count": 86,
   "id": "0f49f53b",
   "metadata": {},
   "outputs": [
    {
     "name": "stdout",
     "output_type": "stream",
     "text": [
      "<class 'pandas.core.frame.DataFrame'>\n",
      "RangeIndex: 1324566 entries, 0 to 1324565\n",
      "Data columns (total 7 columns):\n",
      " #   Column           Non-Null Count    Dtype  \n",
      "---  ------           --------------    -----  \n",
      " 0   date             1324566 non-null  object \n",
      " 1   customer_id      1324566 non-null  int64  \n",
      " 2   item_id          1324566 non-null  int64  \n",
      " 3   quantity         1324566 non-null  int64  \n",
      " 4   selling_price    1324566 non-null  float64\n",
      " 5   other_discount   1324566 non-null  float64\n",
      " 6   coupon_discount  1324566 non-null  float64\n",
      "dtypes: float64(3), int64(3), object(1)\n",
      "memory usage: 70.7+ MB\n"
     ]
    }
   ],
   "source": [
    "df_customer_transaction_data.info()"
   ]
  },
  {
   "cell_type": "code",
   "execution_count": 89,
   "id": "1041ce22",
   "metadata": {},
   "outputs": [
    {
     "data": {
      "text/html": [
       "<div>\n",
       "<style scoped>\n",
       "    .dataframe tbody tr th:only-of-type {\n",
       "        vertical-align: middle;\n",
       "    }\n",
       "\n",
       "    .dataframe tbody tr th {\n",
       "        vertical-align: top;\n",
       "    }\n",
       "\n",
       "    .dataframe thead th {\n",
       "        text-align: right;\n",
       "    }\n",
       "</style>\n",
       "<table border=\"1\" class=\"dataframe\">\n",
       "  <thead>\n",
       "    <tr style=\"text-align: right;\">\n",
       "      <th></th>\n",
       "      <th>customer_id</th>\n",
       "      <th>item_id</th>\n",
       "      <th>quantity</th>\n",
       "      <th>selling_price</th>\n",
       "      <th>other_discount</th>\n",
       "      <th>coupon_discount</th>\n",
       "    </tr>\n",
       "  </thead>\n",
       "  <tbody>\n",
       "    <tr>\n",
       "      <th>count</th>\n",
       "      <td>1.324566e+06</td>\n",
       "      <td>1.324566e+06</td>\n",
       "      <td>1.324566e+06</td>\n",
       "      <td>1.324566e+06</td>\n",
       "      <td>1.324566e+06</td>\n",
       "      <td>1.324566e+06</td>\n",
       "    </tr>\n",
       "    <tr>\n",
       "      <th>mean</th>\n",
       "      <td>8.040020e+02</td>\n",
       "      <td>2.951903e+04</td>\n",
       "      <td>1.306633e+02</td>\n",
       "      <td>1.146036e+02</td>\n",
       "      <td>-1.776871e+01</td>\n",
       "      <td>-5.948983e-01</td>\n",
       "    </tr>\n",
       "    <tr>\n",
       "      <th>std</th>\n",
       "      <td>4.573363e+02</td>\n",
       "      <td>1.790806e+04</td>\n",
       "      <td>1.311545e+03</td>\n",
       "      <td>1.529053e+02</td>\n",
       "      <td>3.788867e+01</td>\n",
       "      <td>7.069367e+00</td>\n",
       "    </tr>\n",
       "    <tr>\n",
       "      <th>min</th>\n",
       "      <td>1.000000e+00</td>\n",
       "      <td>1.000000e+00</td>\n",
       "      <td>1.000000e+00</td>\n",
       "      <td>3.600000e-01</td>\n",
       "      <td>-3.120310e+03</td>\n",
       "      <td>-1.992230e+03</td>\n",
       "    </tr>\n",
       "    <tr>\n",
       "      <th>25%</th>\n",
       "      <td>4.180000e+02</td>\n",
       "      <td>1.468400e+04</td>\n",
       "      <td>1.000000e+00</td>\n",
       "      <td>4.916000e+01</td>\n",
       "      <td>-2.315000e+01</td>\n",
       "      <td>0.000000e+00</td>\n",
       "    </tr>\n",
       "    <tr>\n",
       "      <th>50%</th>\n",
       "      <td>8.010000e+02</td>\n",
       "      <td>2.659700e+04</td>\n",
       "      <td>1.000000e+00</td>\n",
       "      <td>7.801000e+01</td>\n",
       "      <td>-1.780000e+00</td>\n",
       "      <td>0.000000e+00</td>\n",
       "    </tr>\n",
       "    <tr>\n",
       "      <th>75%</th>\n",
       "      <td>1.198000e+03</td>\n",
       "      <td>4.240575e+04</td>\n",
       "      <td>1.000000e+00</td>\n",
       "      <td>1.243100e+02</td>\n",
       "      <td>0.000000e+00</td>\n",
       "      <td>0.000000e+00</td>\n",
       "    </tr>\n",
       "    <tr>\n",
       "      <th>max</th>\n",
       "      <td>1.582000e+03</td>\n",
       "      <td>7.406600e+04</td>\n",
       "      <td>8.963800e+04</td>\n",
       "      <td>1.780964e+04</td>\n",
       "      <td>0.000000e+00</td>\n",
       "      <td>0.000000e+00</td>\n",
       "    </tr>\n",
       "  </tbody>\n",
       "</table>\n",
       "</div>"
      ],
      "text/plain": [
       "        customer_id       item_id      quantity  selling_price  \\\n",
       "count  1.324566e+06  1.324566e+06  1.324566e+06   1.324566e+06   \n",
       "mean   8.040020e+02  2.951903e+04  1.306633e+02   1.146036e+02   \n",
       "std    4.573363e+02  1.790806e+04  1.311545e+03   1.529053e+02   \n",
       "min    1.000000e+00  1.000000e+00  1.000000e+00   3.600000e-01   \n",
       "25%    4.180000e+02  1.468400e+04  1.000000e+00   4.916000e+01   \n",
       "50%    8.010000e+02  2.659700e+04  1.000000e+00   7.801000e+01   \n",
       "75%    1.198000e+03  4.240575e+04  1.000000e+00   1.243100e+02   \n",
       "max    1.582000e+03  7.406600e+04  8.963800e+04   1.780964e+04   \n",
       "\n",
       "       other_discount  coupon_discount  \n",
       "count    1.324566e+06     1.324566e+06  \n",
       "mean    -1.776871e+01    -5.948983e-01  \n",
       "std      3.788867e+01     7.069367e+00  \n",
       "min     -3.120310e+03    -1.992230e+03  \n",
       "25%     -2.315000e+01     0.000000e+00  \n",
       "50%     -1.780000e+00     0.000000e+00  \n",
       "75%      0.000000e+00     0.000000e+00  \n",
       "max      0.000000e+00     0.000000e+00  "
      ]
     },
     "execution_count": 89,
     "metadata": {},
     "output_type": "execute_result"
    }
   ],
   "source": [
    "df_customer_transaction_data.describe()"
   ]
  },
  {
   "cell_type": "code",
   "execution_count": 88,
   "id": "f25ace91",
   "metadata": {},
   "outputs": [
    {
     "data": {
      "text/html": [
       "<div>\n",
       "<style scoped>\n",
       "    .dataframe tbody tr th:only-of-type {\n",
       "        vertical-align: middle;\n",
       "    }\n",
       "\n",
       "    .dataframe tbody tr th {\n",
       "        vertical-align: top;\n",
       "    }\n",
       "\n",
       "    .dataframe thead th {\n",
       "        text-align: right;\n",
       "    }\n",
       "</style>\n",
       "<table border=\"1\" class=\"dataframe\">\n",
       "  <thead>\n",
       "    <tr style=\"text-align: right;\">\n",
       "      <th></th>\n",
       "      <th>customer_id</th>\n",
       "      <th>item_id</th>\n",
       "      <th>quantity</th>\n",
       "      <th>selling_price</th>\n",
       "      <th>other_discount</th>\n",
       "      <th>coupon_discount</th>\n",
       "    </tr>\n",
       "  </thead>\n",
       "  <tbody>\n",
       "    <tr>\n",
       "      <th>customer_id</th>\n",
       "      <td>1.000000</td>\n",
       "      <td>0.002864</td>\n",
       "      <td>0.000016</td>\n",
       "      <td>0.004312</td>\n",
       "      <td>-0.004015</td>\n",
       "      <td>-0.001199</td>\n",
       "    </tr>\n",
       "    <tr>\n",
       "      <th>item_id</th>\n",
       "      <td>0.002864</td>\n",
       "      <td>1.000000</td>\n",
       "      <td>0.105149</td>\n",
       "      <td>0.126384</td>\n",
       "      <td>-0.051793</td>\n",
       "      <td>-0.031481</td>\n",
       "    </tr>\n",
       "    <tr>\n",
       "      <th>quantity</th>\n",
       "      <td>0.000016</td>\n",
       "      <td>0.105149</td>\n",
       "      <td>1.000000</td>\n",
       "      <td>0.672741</td>\n",
       "      <td>-0.056818</td>\n",
       "      <td>0.008266</td>\n",
       "    </tr>\n",
       "    <tr>\n",
       "      <th>selling_price</th>\n",
       "      <td>0.004312</td>\n",
       "      <td>0.126384</td>\n",
       "      <td>0.672741</td>\n",
       "      <td>1.000000</td>\n",
       "      <td>-0.246314</td>\n",
       "      <td>-0.080278</td>\n",
       "    </tr>\n",
       "    <tr>\n",
       "      <th>other_discount</th>\n",
       "      <td>-0.004015</td>\n",
       "      <td>-0.051793</td>\n",
       "      <td>-0.056818</td>\n",
       "      <td>-0.246314</td>\n",
       "      <td>1.000000</td>\n",
       "      <td>0.109624</td>\n",
       "    </tr>\n",
       "    <tr>\n",
       "      <th>coupon_discount</th>\n",
       "      <td>-0.001199</td>\n",
       "      <td>-0.031481</td>\n",
       "      <td>0.008266</td>\n",
       "      <td>-0.080278</td>\n",
       "      <td>0.109624</td>\n",
       "      <td>1.000000</td>\n",
       "    </tr>\n",
       "  </tbody>\n",
       "</table>\n",
       "</div>"
      ],
      "text/plain": [
       "                 customer_id   item_id  quantity  selling_price  \\\n",
       "customer_id         1.000000  0.002864  0.000016       0.004312   \n",
       "item_id             0.002864  1.000000  0.105149       0.126384   \n",
       "quantity            0.000016  0.105149  1.000000       0.672741   \n",
       "selling_price       0.004312  0.126384  0.672741       1.000000   \n",
       "other_discount     -0.004015 -0.051793 -0.056818      -0.246314   \n",
       "coupon_discount    -0.001199 -0.031481  0.008266      -0.080278   \n",
       "\n",
       "                 other_discount  coupon_discount  \n",
       "customer_id           -0.004015        -0.001199  \n",
       "item_id               -0.051793        -0.031481  \n",
       "quantity              -0.056818         0.008266  \n",
       "selling_price         -0.246314        -0.080278  \n",
       "other_discount         1.000000         0.109624  \n",
       "coupon_discount        0.109624         1.000000  "
      ]
     },
     "execution_count": 88,
     "metadata": {},
     "output_type": "execute_result"
    }
   ],
   "source": [
    "df_customer_transaction_data.corr()"
   ]
  },
  {
   "cell_type": "markdown",
   "id": "ebd9f3c2",
   "metadata": {},
   "source": [
    "# Merging dataset"
   ]
  },
  {
   "cell_type": "code",
   "execution_count": 121,
   "id": "9ff0a73c",
   "metadata": {},
   "outputs": [],
   "source": [
    "df_merged_train_campaign=pd.merge(df_train,df_campaign_data,on='campaign_id',how='left')"
   ]
  },
  {
   "cell_type": "markdown",
   "id": "a1f08e66",
   "metadata": {},
   "source": [
    "#### MERGING TRAIN data AND CAMPAIGN DATASET USING CAMPAIGN ID using left outer join\n"
   ]
  },
  {
   "cell_type": "code",
   "execution_count": 122,
   "id": "bec74efa",
   "metadata": {},
   "outputs": [
    {
     "data": {
      "text/html": [
       "<div>\n",
       "<style scoped>\n",
       "    .dataframe tbody tr th:only-of-type {\n",
       "        vertical-align: middle;\n",
       "    }\n",
       "\n",
       "    .dataframe tbody tr th {\n",
       "        vertical-align: top;\n",
       "    }\n",
       "\n",
       "    .dataframe thead th {\n",
       "        text-align: right;\n",
       "    }\n",
       "</style>\n",
       "<table border=\"1\" class=\"dataframe\">\n",
       "  <thead>\n",
       "    <tr style=\"text-align: right;\">\n",
       "      <th></th>\n",
       "      <th>id</th>\n",
       "      <th>campaign_id</th>\n",
       "      <th>coupon_id</th>\n",
       "      <th>customer_id</th>\n",
       "      <th>redemption_status</th>\n",
       "      <th>campaign_type</th>\n",
       "      <th>start_date</th>\n",
       "      <th>end_date</th>\n",
       "    </tr>\n",
       "  </thead>\n",
       "  <tbody>\n",
       "    <tr>\n",
       "      <th>78364</th>\n",
       "      <td>128587</td>\n",
       "      <td>8</td>\n",
       "      <td>71</td>\n",
       "      <td>1523</td>\n",
       "      <td>0</td>\n",
       "      <td>X</td>\n",
       "      <td>16/02/13</td>\n",
       "      <td>05/04/13</td>\n",
       "    </tr>\n",
       "    <tr>\n",
       "      <th>78365</th>\n",
       "      <td>128589</td>\n",
       "      <td>30</td>\n",
       "      <td>547</td>\n",
       "      <td>937</td>\n",
       "      <td>0</td>\n",
       "      <td>X</td>\n",
       "      <td>19/11/12</td>\n",
       "      <td>04/01/13</td>\n",
       "    </tr>\n",
       "    <tr>\n",
       "      <th>78366</th>\n",
       "      <td>128590</td>\n",
       "      <td>8</td>\n",
       "      <td>754</td>\n",
       "      <td>1004</td>\n",
       "      <td>0</td>\n",
       "      <td>X</td>\n",
       "      <td>16/02/13</td>\n",
       "      <td>05/04/13</td>\n",
       "    </tr>\n",
       "    <tr>\n",
       "      <th>78367</th>\n",
       "      <td>128592</td>\n",
       "      <td>13</td>\n",
       "      <td>134</td>\n",
       "      <td>71</td>\n",
       "      <td>0</td>\n",
       "      <td>X</td>\n",
       "      <td>19/05/13</td>\n",
       "      <td>05/07/13</td>\n",
       "    </tr>\n",
       "    <tr>\n",
       "      <th>78368</th>\n",
       "      <td>128595</td>\n",
       "      <td>13</td>\n",
       "      <td>681</td>\n",
       "      <td>623</td>\n",
       "      <td>0</td>\n",
       "      <td>X</td>\n",
       "      <td>19/05/13</td>\n",
       "      <td>05/07/13</td>\n",
       "    </tr>\n",
       "  </tbody>\n",
       "</table>\n",
       "</div>"
      ],
      "text/plain": [
       "           id  campaign_id  coupon_id  customer_id  redemption_status  \\\n",
       "78364  128587            8         71         1523                  0   \n",
       "78365  128589           30        547          937                  0   \n",
       "78366  128590            8        754         1004                  0   \n",
       "78367  128592           13        134           71                  0   \n",
       "78368  128595           13        681          623                  0   \n",
       "\n",
       "      campaign_type start_date  end_date  \n",
       "78364             X   16/02/13  05/04/13  \n",
       "78365             X   19/11/12  04/01/13  \n",
       "78366             X   16/02/13  05/04/13  \n",
       "78367             X   19/05/13  05/07/13  \n",
       "78368             X   19/05/13  05/07/13  "
      ]
     },
     "execution_count": 122,
     "metadata": {},
     "output_type": "execute_result"
    }
   ],
   "source": [
    "df_merged_train_campaign.tail(5)"
   ]
  },
  {
   "cell_type": "markdown",
   "id": "109dd0ba",
   "metadata": {},
   "source": [
    "#### Merging train\n",
    "Here we will use outer join as the transaction exist only if the train exist."
   ]
  },
  {
   "cell_type": "code",
   "execution_count": 149,
   "id": "9729e4ef",
   "metadata": {},
   "outputs": [],
   "source": [
    "df_merged_train_campaign_demo=pd.merge(df_merged_train_campaign,df_customer_demographics,on='customer_id',how='outer')"
   ]
  },
  {
   "cell_type": "code",
   "execution_count": 150,
   "id": "91b92df6",
   "metadata": {},
   "outputs": [
    {
     "data": {
      "text/html": [
       "<div>\n",
       "<style scoped>\n",
       "    .dataframe tbody tr th:only-of-type {\n",
       "        vertical-align: middle;\n",
       "    }\n",
       "\n",
       "    .dataframe tbody tr th {\n",
       "        vertical-align: top;\n",
       "    }\n",
       "\n",
       "    .dataframe thead th {\n",
       "        text-align: right;\n",
       "    }\n",
       "</style>\n",
       "<table border=\"1\" class=\"dataframe\">\n",
       "  <thead>\n",
       "    <tr style=\"text-align: right;\">\n",
       "      <th></th>\n",
       "      <th>id</th>\n",
       "      <th>campaign_id</th>\n",
       "      <th>coupon_id</th>\n",
       "      <th>customer_id</th>\n",
       "      <th>redemption_status</th>\n",
       "      <th>campaign_type</th>\n",
       "      <th>start_date</th>\n",
       "      <th>end_date</th>\n",
       "      <th>age_range</th>\n",
       "      <th>marital_status</th>\n",
       "      <th>rented</th>\n",
       "      <th>family_size</th>\n",
       "      <th>no_of_children</th>\n",
       "      <th>income_bracket</th>\n",
       "    </tr>\n",
       "  </thead>\n",
       "  <tbody>\n",
       "    <tr>\n",
       "      <th>0</th>\n",
       "      <td>1</td>\n",
       "      <td>13</td>\n",
       "      <td>27</td>\n",
       "      <td>1053</td>\n",
       "      <td>0</td>\n",
       "      <td>X</td>\n",
       "      <td>19/05/13</td>\n",
       "      <td>05/07/13</td>\n",
       "      <td>46-55</td>\n",
       "      <td>NaN</td>\n",
       "      <td>0</td>\n",
       "      <td>1</td>\n",
       "      <td>NaN</td>\n",
       "      <td>5</td>\n",
       "    </tr>\n",
       "    <tr>\n",
       "      <th>1</th>\n",
       "      <td>2444</td>\n",
       "      <td>13</td>\n",
       "      <td>513</td>\n",
       "      <td>1053</td>\n",
       "      <td>0</td>\n",
       "      <td>X</td>\n",
       "      <td>19/05/13</td>\n",
       "      <td>05/07/13</td>\n",
       "      <td>46-55</td>\n",
       "      <td>NaN</td>\n",
       "      <td>0</td>\n",
       "      <td>1</td>\n",
       "      <td>NaN</td>\n",
       "      <td>5</td>\n",
       "    </tr>\n",
       "    <tr>\n",
       "      <th>2</th>\n",
       "      <td>3651</td>\n",
       "      <td>13</td>\n",
       "      <td>166</td>\n",
       "      <td>1053</td>\n",
       "      <td>0</td>\n",
       "      <td>X</td>\n",
       "      <td>19/05/13</td>\n",
       "      <td>05/07/13</td>\n",
       "      <td>46-55</td>\n",
       "      <td>NaN</td>\n",
       "      <td>0</td>\n",
       "      <td>1</td>\n",
       "      <td>NaN</td>\n",
       "      <td>5</td>\n",
       "    </tr>\n",
       "  </tbody>\n",
       "</table>\n",
       "</div>"
      ],
      "text/plain": [
       "     id  campaign_id  coupon_id  customer_id  redemption_status campaign_type  \\\n",
       "0     1           13         27         1053                  0             X   \n",
       "1  2444           13        513         1053                  0             X   \n",
       "2  3651           13        166         1053                  0             X   \n",
       "\n",
       "  start_date  end_date age_range marital_status  rented family_size  \\\n",
       "0   19/05/13  05/07/13     46-55            NaN       0           1   \n",
       "1   19/05/13  05/07/13     46-55            NaN       0           1   \n",
       "2   19/05/13  05/07/13     46-55            NaN       0           1   \n",
       "\n",
       "  no_of_children  income_bracket  \n",
       "0            NaN               5  \n",
       "1            NaN               5  \n",
       "2            NaN               5  "
      ]
     },
     "execution_count": 150,
     "metadata": {},
     "output_type": "execute_result"
    }
   ],
   "source": [
    "df_merged_train_campaign_demo.head(3)"
   ]
  },
  {
   "cell_type": "markdown",
   "id": "6d8bac02",
   "metadata": {},
   "source": [
    "#### Merging customer transaction data\n",
    "The already merged dataset is merged with customer transaction dataset using left outer join as the transaction will only exist if the train dataset exist"
   ]
  },
  {
   "cell_type": "code",
   "execution_count": 151,
   "id": "2c6ad147",
   "metadata": {},
   "outputs": [],
   "source": [
    "df_merged_train_campaign_demo_trans=pd.merge(df_merge_train_campaign_demo,df_customer_transaction_data_copy,on='customer_id',how='left')"
   ]
  },
  {
   "cell_type": "code",
   "execution_count": 152,
   "id": "b639ca05",
   "metadata": {},
   "outputs": [
    {
     "data": {
      "text/html": [
       "<div>\n",
       "<style scoped>\n",
       "    .dataframe tbody tr th:only-of-type {\n",
       "        vertical-align: middle;\n",
       "    }\n",
       "\n",
       "    .dataframe tbody tr th {\n",
       "        vertical-align: top;\n",
       "    }\n",
       "\n",
       "    .dataframe thead th {\n",
       "        text-align: right;\n",
       "    }\n",
       "</style>\n",
       "<table border=\"1\" class=\"dataframe\">\n",
       "  <thead>\n",
       "    <tr style=\"text-align: right;\">\n",
       "      <th></th>\n",
       "      <th>customer_id</th>\n",
       "      <th>age_range</th>\n",
       "      <th>marital_status</th>\n",
       "      <th>rented</th>\n",
       "      <th>family_size</th>\n",
       "      <th>no_of_children</th>\n",
       "      <th>income_bracket</th>\n",
       "      <th>id</th>\n",
       "      <th>campaign_id</th>\n",
       "      <th>coupon_id</th>\n",
       "      <th>redemption_status</th>\n",
       "      <th>campaign_type</th>\n",
       "      <th>start_date</th>\n",
       "      <th>end_date</th>\n",
       "      <th>date</th>\n",
       "      <th>item_id</th>\n",
       "      <th>quantity</th>\n",
       "      <th>selling_price</th>\n",
       "      <th>other_discount</th>\n",
       "      <th>coupon_discount</th>\n",
       "    </tr>\n",
       "  </thead>\n",
       "  <tbody>\n",
       "    <tr>\n",
       "      <th>792429</th>\n",
       "      <td>623</td>\n",
       "      <td>NaN</td>\n",
       "      <td>NaN</td>\n",
       "      <td>NaN</td>\n",
       "      <td>NaN</td>\n",
       "      <td>NaN</td>\n",
       "      <td>NaN</td>\n",
       "      <td>128595.0</td>\n",
       "      <td>13.0</td>\n",
       "      <td>681.0</td>\n",
       "      <td>0.0</td>\n",
       "      <td>X</td>\n",
       "      <td>19/05/13</td>\n",
       "      <td>05/07/13</td>\n",
       "      <td>2013-07-01</td>\n",
       "      <td>45520</td>\n",
       "      <td>1</td>\n",
       "      <td>89.05</td>\n",
       "      <td>-8.90</td>\n",
       "      <td>0.0</td>\n",
       "    </tr>\n",
       "    <tr>\n",
       "      <th>792430</th>\n",
       "      <td>623</td>\n",
       "      <td>NaN</td>\n",
       "      <td>NaN</td>\n",
       "      <td>NaN</td>\n",
       "      <td>NaN</td>\n",
       "      <td>NaN</td>\n",
       "      <td>NaN</td>\n",
       "      <td>128595.0</td>\n",
       "      <td>13.0</td>\n",
       "      <td>681.0</td>\n",
       "      <td>0.0</td>\n",
       "      <td>X</td>\n",
       "      <td>19/05/13</td>\n",
       "      <td>05/07/13</td>\n",
       "      <td>2013-07-01</td>\n",
       "      <td>45539</td>\n",
       "      <td>1</td>\n",
       "      <td>142.48</td>\n",
       "      <td>-24.58</td>\n",
       "      <td>0.0</td>\n",
       "    </tr>\n",
       "    <tr>\n",
       "      <th>792431</th>\n",
       "      <td>623</td>\n",
       "      <td>NaN</td>\n",
       "      <td>NaN</td>\n",
       "      <td>NaN</td>\n",
       "      <td>NaN</td>\n",
       "      <td>NaN</td>\n",
       "      <td>NaN</td>\n",
       "      <td>128595.0</td>\n",
       "      <td>13.0</td>\n",
       "      <td>681.0</td>\n",
       "      <td>0.0</td>\n",
       "      <td>X</td>\n",
       "      <td>19/05/13</td>\n",
       "      <td>05/07/13</td>\n",
       "      <td>2013-07-03</td>\n",
       "      <td>45539</td>\n",
       "      <td>1</td>\n",
       "      <td>142.48</td>\n",
       "      <td>-24.58</td>\n",
       "      <td>0.0</td>\n",
       "    </tr>\n",
       "  </tbody>\n",
       "</table>\n",
       "</div>"
      ],
      "text/plain": [
       "        customer_id age_range marital_status  rented family_size  \\\n",
       "792429          623       NaN            NaN     NaN         NaN   \n",
       "792430          623       NaN            NaN     NaN         NaN   \n",
       "792431          623       NaN            NaN     NaN         NaN   \n",
       "\n",
       "       no_of_children  income_bracket        id  campaign_id  coupon_id  \\\n",
       "792429            NaN             NaN  128595.0         13.0      681.0   \n",
       "792430            NaN             NaN  128595.0         13.0      681.0   \n",
       "792431            NaN             NaN  128595.0         13.0      681.0   \n",
       "\n",
       "        redemption_status campaign_type start_date  end_date        date  \\\n",
       "792429                0.0             X   19/05/13  05/07/13  2013-07-01   \n",
       "792430                0.0             X   19/05/13  05/07/13  2013-07-01   \n",
       "792431                0.0             X   19/05/13  05/07/13  2013-07-03   \n",
       "\n",
       "        item_id  quantity  selling_price  other_discount  coupon_discount  \n",
       "792429    45520         1          89.05           -8.90              0.0  \n",
       "792430    45539         1         142.48          -24.58              0.0  \n",
       "792431    45539         1         142.48          -24.58              0.0  "
      ]
     },
     "execution_count": 152,
     "metadata": {},
     "output_type": "execute_result"
    }
   ],
   "source": [
    "df_merged_train_campaign_demo_trans.tail(3)"
   ]
  },
  {
   "cell_type": "markdown",
   "id": "17941595",
   "metadata": {},
   "source": [
    "#### Merging coupon item mapping and item data"
   ]
  },
  {
   "cell_type": "code",
   "execution_count": 153,
   "id": "514eaa13",
   "metadata": {},
   "outputs": [],
   "source": [
    "df_merged_cim_id=pd.merge(df_coupon_item_mapping,df_item_data,on='item_id',how='outer')"
   ]
  },
  {
   "cell_type": "code",
   "execution_count": 154,
   "id": "6ac7604e",
   "metadata": {},
   "outputs": [
    {
     "data": {
      "text/html": [
       "<div>\n",
       "<style scoped>\n",
       "    .dataframe tbody tr th:only-of-type {\n",
       "        vertical-align: middle;\n",
       "    }\n",
       "\n",
       "    .dataframe tbody tr th {\n",
       "        vertical-align: top;\n",
       "    }\n",
       "\n",
       "    .dataframe thead th {\n",
       "        text-align: right;\n",
       "    }\n",
       "</style>\n",
       "<table border=\"1\" class=\"dataframe\">\n",
       "  <thead>\n",
       "    <tr style=\"text-align: right;\">\n",
       "      <th></th>\n",
       "      <th>coupon_id</th>\n",
       "      <th>item_id</th>\n",
       "      <th>brand</th>\n",
       "      <th>brand_type</th>\n",
       "      <th>category</th>\n",
       "    </tr>\n",
       "  </thead>\n",
       "  <tbody>\n",
       "    <tr>\n",
       "      <th>130437</th>\n",
       "      <td>NaN</td>\n",
       "      <td>74064</td>\n",
       "      <td>5497</td>\n",
       "      <td>Established</td>\n",
       "      <td>Pharmaceutical</td>\n",
       "    </tr>\n",
       "    <tr>\n",
       "      <th>130438</th>\n",
       "      <td>NaN</td>\n",
       "      <td>74065</td>\n",
       "      <td>5520</td>\n",
       "      <td>Established</td>\n",
       "      <td>Pharmaceutical</td>\n",
       "    </tr>\n",
       "    <tr>\n",
       "      <th>130439</th>\n",
       "      <td>NaN</td>\n",
       "      <td>74066</td>\n",
       "      <td>5194</td>\n",
       "      <td>Established</td>\n",
       "      <td>Grocery</td>\n",
       "    </tr>\n",
       "  </tbody>\n",
       "</table>\n",
       "</div>"
      ],
      "text/plain": [
       "        coupon_id  item_id  brand   brand_type        category\n",
       "130437        NaN    74064   5497  Established  Pharmaceutical\n",
       "130438        NaN    74065   5520  Established  Pharmaceutical\n",
       "130439        NaN    74066   5194  Established         Grocery"
      ]
     },
     "execution_count": 154,
     "metadata": {},
     "output_type": "execute_result"
    }
   ],
   "source": [
    "df_merged_cim_id.tail(3)"
   ]
  },
  {
   "cell_type": "code",
   "execution_count": null,
   "id": "26820e1d",
   "metadata": {},
   "outputs": [],
   "source": [
    "df_final_merged=pd.merge(df_merged_cim_id,df_merge_train_campaign_demo,on='coupon_id',how='outer')"
   ]
  },
  {
   "cell_type": "code",
   "execution_count": 114,
   "id": "12a9c0ad",
   "metadata": {},
   "outputs": [
    {
     "data": {
      "text/html": [
       "<div>\n",
       "<style scoped>\n",
       "    .dataframe tbody tr th:only-of-type {\n",
       "        vertical-align: middle;\n",
       "    }\n",
       "\n",
       "    .dataframe tbody tr th {\n",
       "        vertical-align: top;\n",
       "    }\n",
       "\n",
       "    .dataframe thead th {\n",
       "        text-align: right;\n",
       "    }\n",
       "</style>\n",
       "<table border=\"1\" class=\"dataframe\">\n",
       "  <thead>\n",
       "    <tr style=\"text-align: right;\">\n",
       "      <th></th>\n",
       "      <th>coupon_id</th>\n",
       "      <th>item_id</th>\n",
       "      <th>brand</th>\n",
       "      <th>brand_type</th>\n",
       "      <th>category</th>\n",
       "      <th>customer_id</th>\n",
       "      <th>age_range</th>\n",
       "      <th>marital_status</th>\n",
       "      <th>rented</th>\n",
       "      <th>family_size</th>\n",
       "      <th>no_of_children</th>\n",
       "      <th>income_bracket</th>\n",
       "      <th>id</th>\n",
       "      <th>campaign_id</th>\n",
       "      <th>redemption_status</th>\n",
       "      <th>campaign_type</th>\n",
       "      <th>start_date</th>\n",
       "      <th>end_date</th>\n",
       "    </tr>\n",
       "  </thead>\n",
       "  <tbody>\n",
       "    <tr>\n",
       "      <th>0</th>\n",
       "      <td>105.0</td>\n",
       "      <td>37</td>\n",
       "      <td>56</td>\n",
       "      <td>Local</td>\n",
       "      <td>Grocery</td>\n",
       "      <td>NaN</td>\n",
       "      <td>NaN</td>\n",
       "      <td>NaN</td>\n",
       "      <td>NaN</td>\n",
       "      <td>NaN</td>\n",
       "      <td>NaN</td>\n",
       "      <td>NaN</td>\n",
       "      <td>NaN</td>\n",
       "      <td>NaN</td>\n",
       "      <td>NaN</td>\n",
       "      <td>NaN</td>\n",
       "      <td>NaN</td>\n",
       "      <td>NaN</td>\n",
       "    </tr>\n",
       "    <tr>\n",
       "      <th>1</th>\n",
       "      <td>105.0</td>\n",
       "      <td>2360</td>\n",
       "      <td>56</td>\n",
       "      <td>Local</td>\n",
       "      <td>Grocery</td>\n",
       "      <td>NaN</td>\n",
       "      <td>NaN</td>\n",
       "      <td>NaN</td>\n",
       "      <td>NaN</td>\n",
       "      <td>NaN</td>\n",
       "      <td>NaN</td>\n",
       "      <td>NaN</td>\n",
       "      <td>NaN</td>\n",
       "      <td>NaN</td>\n",
       "      <td>NaN</td>\n",
       "      <td>NaN</td>\n",
       "      <td>NaN</td>\n",
       "      <td>NaN</td>\n",
       "    </tr>\n",
       "    <tr>\n",
       "      <th>2</th>\n",
       "      <td>105.0</td>\n",
       "      <td>9944</td>\n",
       "      <td>56</td>\n",
       "      <td>Local</td>\n",
       "      <td>Grocery</td>\n",
       "      <td>NaN</td>\n",
       "      <td>NaN</td>\n",
       "      <td>NaN</td>\n",
       "      <td>NaN</td>\n",
       "      <td>NaN</td>\n",
       "      <td>NaN</td>\n",
       "      <td>NaN</td>\n",
       "      <td>NaN</td>\n",
       "      <td>NaN</td>\n",
       "      <td>NaN</td>\n",
       "      <td>NaN</td>\n",
       "      <td>NaN</td>\n",
       "      <td>NaN</td>\n",
       "    </tr>\n",
       "    <tr>\n",
       "      <th>3</th>\n",
       "      <td>105.0</td>\n",
       "      <td>13208</td>\n",
       "      <td>56</td>\n",
       "      <td>Local</td>\n",
       "      <td>Grocery</td>\n",
       "      <td>NaN</td>\n",
       "      <td>NaN</td>\n",
       "      <td>NaN</td>\n",
       "      <td>NaN</td>\n",
       "      <td>NaN</td>\n",
       "      <td>NaN</td>\n",
       "      <td>NaN</td>\n",
       "      <td>NaN</td>\n",
       "      <td>NaN</td>\n",
       "      <td>NaN</td>\n",
       "      <td>NaN</td>\n",
       "      <td>NaN</td>\n",
       "      <td>NaN</td>\n",
       "    </tr>\n",
       "    <tr>\n",
       "      <th>4</th>\n",
       "      <td>105.0</td>\n",
       "      <td>17451</td>\n",
       "      <td>56</td>\n",
       "      <td>Local</td>\n",
       "      <td>Grocery</td>\n",
       "      <td>NaN</td>\n",
       "      <td>NaN</td>\n",
       "      <td>NaN</td>\n",
       "      <td>NaN</td>\n",
       "      <td>NaN</td>\n",
       "      <td>NaN</td>\n",
       "      <td>NaN</td>\n",
       "      <td>NaN</td>\n",
       "      <td>NaN</td>\n",
       "      <td>NaN</td>\n",
       "      <td>NaN</td>\n",
       "      <td>NaN</td>\n",
       "      <td>NaN</td>\n",
       "    </tr>\n",
       "  </tbody>\n",
       "</table>\n",
       "</div>"
      ],
      "text/plain": [
       "   coupon_id  item_id  brand brand_type category  customer_id age_range  \\\n",
       "0      105.0       37     56      Local  Grocery          NaN       NaN   \n",
       "1      105.0     2360     56      Local  Grocery          NaN       NaN   \n",
       "2      105.0     9944     56      Local  Grocery          NaN       NaN   \n",
       "3      105.0    13208     56      Local  Grocery          NaN       NaN   \n",
       "4      105.0    17451     56      Local  Grocery          NaN       NaN   \n",
       "\n",
       "  marital_status  rented family_size no_of_children  income_bracket  id  \\\n",
       "0            NaN     NaN         NaN            NaN             NaN NaN   \n",
       "1            NaN     NaN         NaN            NaN             NaN NaN   \n",
       "2            NaN     NaN         NaN            NaN             NaN NaN   \n",
       "3            NaN     NaN         NaN            NaN             NaN NaN   \n",
       "4            NaN     NaN         NaN            NaN             NaN NaN   \n",
       "\n",
       "   campaign_id  redemption_status campaign_type start_date end_date  \n",
       "0          NaN                NaN           NaN        NaN      NaN  \n",
       "1          NaN                NaN           NaN        NaN      NaN  \n",
       "2          NaN                NaN           NaN        NaN      NaN  \n",
       "3          NaN                NaN           NaN        NaN      NaN  \n",
       "4          NaN                NaN           NaN        NaN      NaN  "
      ]
     },
     "execution_count": 114,
     "metadata": {},
     "output_type": "execute_result"
    }
   ],
   "source": [
    "df_final_merged.head(5)"
   ]
  },
  {
   "cell_type": "markdown",
   "id": "4d8e903f",
   "metadata": {},
   "source": []
  }
 ],
 "metadata": {
  "kernelspec": {
   "display_name": "Python 3 (ipykernel)",
   "language": "python",
   "name": "python3"
  },
  "language_info": {
   "codemirror_mode": {
    "name": "ipython",
    "version": 3
   },
   "file_extension": ".py",
   "mimetype": "text/x-python",
   "name": "python",
   "nbconvert_exporter": "python",
   "pygments_lexer": "ipython3",
   "version": "3.9.13"
  }
 },
 "nbformat": 4,
 "nbformat_minor": 5
}
